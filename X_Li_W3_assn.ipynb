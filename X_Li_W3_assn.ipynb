{
 "cells": [
  {
   "cell_type": "markdown",
   "metadata": {},
   "source": [
    "# read data "
   ]
  },
  {
   "cell_type": "code",
   "execution_count": 149,
   "metadata": {},
   "outputs": [],
   "source": [
    "#define lists for each attributes\n",
    "list_Price = []\n",
    "list_Maintenance_cost = []\n",
    "list_Number_of_doors = []\n",
    "list_Number_of_passengers = []\n",
    "list_Luggage_capacity = []\n",
    "list_Safety_rating = []\n",
    "list_Classification_of_vehicle = []"
   ]
  },
  {
   "cell_type": "code",
   "execution_count": 150,
   "metadata": {},
   "outputs": [
    {
     "name": "stdout",
     "output_type": "stream",
     "text": [
      "['high', 'high', '2', '4', 'med', 'low', 'unacc']\n",
      "['high', 'high', '4', 'more', 'small', 'high', 'acc']\n",
      "['high', 'high', '4', 'more', 'big', 'low', 'unacc']\n",
      "['high', 'low', '2', 'more', 'big', 'high', 'acc']\n",
      "['vhigh', 'low', '3', '2', 'med', 'med', 'unacc']\n",
      "['low', 'high', '2', '2', 'small', 'low', 'unacc']\n",
      "['med', 'med', '4', 'more', 'med', 'high', 'vgood']\n",
      "['low', 'low', '3', '2', 'big', 'med', 'unacc']\n",
      "['vhigh', 'low', '2', '2', 'small', 'low', 'unacc']\n",
      "['vhigh', 'high', '4', '4', 'med', 'low', 'unacc']\n",
      "['low', 'low', '2', '2', 'med', 'med', 'unacc']\n",
      "['vhigh', 'low', '4', 'more', 'small', 'high', 'acc']\n",
      "['high', 'low', '2', '4', 'big', 'med', 'acc']\n",
      "['low', 'vhigh', '3', 'more', 'big', 'low', 'unacc']\n",
      "['high', 'low', '5more', '2', 'big', 'med', 'unacc']\n",
      "['vhigh', 'high', '2', 'more', 'med', 'high', 'unacc']\n",
      "['med', 'med', '2', '2', 'small', 'low', 'unacc']\n",
      "['high', 'low', '5more', '4', 'med', 'high', 'acc']\n",
      "['low', 'low', '3', 'more', 'med', 'high', 'vgood']\n",
      "['low', 'low', '2', '2', 'big', 'med', 'unacc']\n",
      "['med', 'high', '4', '2', 'big', 'high', 'unacc']\n",
      "['low', 'low', '2', '2', 'small', 'high', 'unacc']\n",
      "['vhigh', 'high', '5more', '4', 'med', 'med', 'unacc']\n",
      "['med', 'vhigh', '2', '2', 'big', 'low', 'unacc']\n",
      "['low', 'vhigh', '4', '4', 'big', 'low', 'unacc']\n",
      "['vhigh', 'low', '3', 'more', 'big', 'low', 'unacc']\n",
      "['med', 'vhigh', '3', '4', 'small', 'low', 'unacc']\n",
      "['high', 'high', '3', '4', 'med', 'med', 'unacc']\n",
      "['low', 'high', '5more', '2', 'big', 'low', 'unacc']\n",
      "['med', 'high', '5more', '2', 'med', 'med', 'unacc']\n",
      "['high', 'low', '3', '4', 'med', 'high', 'acc']\n",
      "['high', 'vhigh', '5more', '4', 'med', 'med', 'unacc']\n",
      "['low', 'low', '5more', '2', 'med', 'low', 'unacc']\n",
      "['vhigh', 'vhigh', '4', '2', 'big', 'high', 'unacc']\n",
      "['high', 'low', '3', '2', 'big', 'high', 'unacc']\n"
     ]
    }
   ],
   "source": [
    "#import library csv\n",
    "import csv\n",
    "with open('C:/AI program/(1)data aquisition& Management/third week/cars-sample35.txt') as csvfile:\n",
    " readCSV = csv.reader(csvfile) #read data\n",
    "# print each row value as list by using the csv.reader function\n",
    " for row in readCSV:\n",
    "  print(row)"
   ]
  },
  {
   "cell_type": "markdown",
   "metadata": {},
   "source": [
    "# create 7 attributes"
   ]
  },
  {
   "cell_type": "code",
   "execution_count": 151,
   "metadata": {},
   "outputs": [
    {
     "name": "stdout",
     "output_type": "stream",
     "text": [
      "Price: ['high', 'high', 'high', 'high', 'vhigh', 'low', 'med', 'low', 'vhigh', 'vhigh', 'low', 'vhigh', 'high', 'low', 'high', 'vhigh', 'med', 'high', 'low', 'low', 'med', 'low', 'vhigh', 'med', 'low', 'vhigh', 'med', 'high', 'low', 'med', 'high', 'high', 'low', 'vhigh', 'high']\n",
      "Maintenance_cost: ['high', 'high', 'high', 'low', 'low', 'high', 'med', 'low', 'low', 'high', 'low', 'low', 'low', 'vhigh', 'low', 'high', 'med', 'low', 'low', 'low', 'high', 'low', 'high', 'vhigh', 'vhigh', 'low', 'vhigh', 'high', 'high', 'high', 'low', 'vhigh', 'low', 'vhigh', 'low']\n",
      "Number_of_doors: ['2', '4', '4', '2', '3', '2', '4', '3', '2', '4', '2', '4', '2', '3', '5more', '2', '2', '5more', '3', '2', '4', '2', '5more', '2', '4', '3', '3', '3', '5more', '5more', '3', '5more', '5more', '4', '3']\n",
      "Number_of_passengers: ['4', 'more', 'more', 'more', '2', '2', 'more', '2', '2', '4', '2', 'more', '4', 'more', '2', 'more', '2', '4', 'more', '2', '2', '2', '4', '2', '4', 'more', '4', '4', '2', '2', '4', '4', '2', '2', '2']\n",
      "Luggage_capacity: ['med', 'small', 'big', 'big', 'med', 'small', 'med', 'big', 'small', 'med', 'med', 'small', 'big', 'big', 'big', 'med', 'small', 'med', 'med', 'big', 'big', 'small', 'med', 'big', 'big', 'big', 'small', 'med', 'big', 'med', 'med', 'med', 'med', 'big', 'big']\n",
      "Safety_rating: ['low', 'high', 'low', 'high', 'med', 'low', 'high', 'med', 'low', 'low', 'med', 'high', 'med', 'low', 'med', 'high', 'low', 'high', 'high', 'med', 'high', 'high', 'med', 'low', 'low', 'low', 'low', 'med', 'low', 'med', 'high', 'med', 'low', 'high', 'high']\n",
      "list_Classification_of_vehicle: ['unacc', 'acc', 'unacc', 'acc', 'unacc', 'unacc', 'vgood', 'unacc', 'unacc', 'unacc', 'unacc', 'acc', 'acc', 'unacc', 'unacc', 'unacc', 'unacc', 'acc', 'vgood', 'unacc', 'unacc', 'unacc', 'unacc', 'unacc', 'unacc', 'unacc', 'unacc', 'unacc', 'unacc', 'unacc', 'acc', 'unacc', 'unacc', 'unacc', 'unacc']\n"
     ]
    }
   ],
   "source": [
    "import csv\n",
    "with open('C:/AI program/(1)data aquisition& Management/third week/cars-sample35.txt') as csvfile:\n",
    " readCSV = csv.reader(csvfile)\n",
    "#print each row as read by the csv.reader function\n",
    " for row in readCSV:\n",
    "    list_Price.append(row[0]) #extract index=0 values from each row list in readCSV to become the list of price \n",
    "    list_Maintenance_cost.append(row[1]) \n",
    "    list_Number_of_doors.append(row[2])\n",
    "    list_Number_of_passengers.append(row[3])  \n",
    "    list_Luggage_capacity.append(row[4])\n",
    "    list_Safety_rating.append(row[5])\n",
    "    list_Classification_of_vehicle.append(row[6])\n",
    "print(\"Price:\", list_Price)\n",
    "print(\"Maintenance_cost:\", list_Maintenance_cost)\n",
    "print(\"Number_of_doors:\", list_Number_of_doors)\n",
    "print(\"Number_of_passengers:\", list_Number_of_passengers)\n",
    "print(\"Luggage_capacity:\", list_Luggage_capacity)\n",
    "print(\"Safety_rating:\", list_Safety_rating)\n",
    "print(\"list_Classification_of_vehicle:\", list_Classification_of_vehicle)\n"
   ]
  },
  {
   "cell_type": "markdown",
   "metadata": {},
   "source": [
    "# HW 3"
   ]
  },
  {
   "cell_type": "code",
   "execution_count": 152,
   "metadata": {},
   "outputs": [
    {
     "name": "stdout",
     "output_type": "stream",
     "text": [
      "Index_price_is_med: [6, 16, 20, 23, 26, 29]\n"
     ]
    }
   ],
   "source": [
    "#1.   the list index values of each automobile having a price rating of \"med\".\n",
    "#  using a list comprehension\n",
    "# len(list_Price) means length of total values \n",
    "Index_price_is_med = [Ismed_index for Ismed_index in range(len(list_Price))if list_Price[Ismed_index] == 'med']      \n",
    "print(\"Index_price_is_med:\",Index_price_is_med)"
   ]
  },
  {
   "cell_type": "code",
   "execution_count": 153,
   "metadata": {},
   "outputs": [
    {
     "name": "stdout",
     "output_type": "stream",
     "text": [
      "Number_of_passengers_if_price_ismed: ['more', '2', '2', '2', '4', '2']\n"
     ]
    }
   ],
   "source": [
    "#2.  the \"number of passengers\" value for each auto having a \"price\" value of \"med\"\n",
    "#  using a list comprehension\n",
    "# number means index in list of price is med\n",
    "# for those number as index in list of passengers, we can find the passengers value\n",
    "Number_of_passengers_price_ismed = [list_Number_of_passengers[number] for number in Index_price_is_med]      \n",
    "print(\"Number_of_passengers_if_price_ismed:\",Number_of_passengers_price_ismed)"
   ]
  },
  {
   "cell_type": "code",
   "execution_count": 154,
   "metadata": {},
   "outputs": [
    {
     "name": "stdout",
     "output_type": "stream",
     "text": [
      "Index_Price_ishigh_and_Maintenance_isnotlow: [0, 1, 2, 27, 31]\n"
     ]
    }
   ],
   "source": [
    "#3.  the index value for each automobile having a \"price\" value of \"high\" and a \"maintenance\" value that is not \"low\"\n",
    "#  using a list comprehension\n",
    "# Isnotlow_Ishigh_index means the index both are price is high and maintenance is not low\n",
    "# len(list_Price) mean the length of total values which is equal to list_Maintenance_cost\n",
    "Index_Price_ishigh_and_Maintenance_isnotlow = [Isnotlow_Ishigh_index for Isnotlow_Ishigh_index in range(len(list_Price))\n",
    "  if list_Price[Isnotlow_Ishigh_index] == 'high'and list_Maintenance_cost[Isnotlow_Ishigh_index] !='low']          \n",
    "print(\"Index_Price_ishigh_and_Maintenance_isnotlow:\",Index_Price_ishigh_and_Maintenance_isnotlow)"
   ]
  },
  {
   "cell_type": "code",
   "execution_count": 155,
   "metadata": {},
   "outputs": [
    {
     "name": "stdout",
     "output_type": "stream",
     "text": [
      "[1, 2, 3, 'A', 'B', 'C', 4, 5, 'D', 'E']\n"
     ]
    }
   ],
   "source": [
    "#4. extract each individual element of the component lists contained within nlist and add them to a new list\n",
    "#  using a list comprehension\n",
    "# in the list comprehension, two loop can be following without any bracket\n",
    "nlist = [ [1, 2, 3], ['A', 'B', 'C'], [4, 5], ['D', 'E'] ]\n",
    "flist = [y for x in nlist for y in x] # split every element in every list in nlist\n",
    "print(flist)"
   ]
  },
  {
   "cell_type": "code",
   "execution_count": 157,
   "metadata": {},
   "outputs": [
    {
     "name": "stdout",
     "output_type": "stream",
     "text": [
      "{'A0': 'high', 'A1': 'high', 'A2': 'high', 'A3': 'high', 'A4': 'vhigh', 'A5': 'low', 'A6': 'med'}\n",
      "{'A0': 'med', 'A1': 'small', 'A2': 'big', 'A3': 'big', 'A4': 'med', 'A5': 'small', 'A6': 'med'}\n",
      "['vhigh']\n",
      "['med']\n"
     ]
    }
   ],
   "source": [
    "#5. create two new dict objects containing the first seven elements of the ‘Price’ and ‘Luggage’ lists, respectively.\n",
    "#    use these dict objects to tell us the price and luggage capacity of the auto identified by the ‘A4’ key value\n",
    "\n",
    "#define variate\n",
    "element_number = 7 # the number to make dict element\n",
    "key_number = 4 # the key number to search\n",
    "mylist = [] # define list as empty\n",
    "\n",
    "# makedict function\n",
    "def makedict(mylist, x): \n",
    "    if(type(x)!=int):\n",
    "     return \"parameter not int type\" # return error notice if the input element is not int type\n",
    "    if x > len(mylist)-1:\n",
    "     return \"index is out of range\",len(mylist)-1 # return error notice if the input element is out of range\n",
    "                                                  #range of index is lengnth of list minus 1\n",
    "    newdict = {'A'+ str(n):mylist[n]for n in range(x) } #str(n) means make key type to str.\n",
    "    return(newdict)\n",
    "\n",
    "# get value by key function\n",
    "def get_value (dict, key):\n",
    "    return [dict[key] for k in dict.keys() if k == key] # use if syntax to find the value by specific key\n",
    "                                                        # return value as list\n",
    "# call function and print dict\n",
    "price_dic = makedict(list_Price,element_number)\n",
    "luggage_dic = makedict(list_Luggage_capacity,element_number)\n",
    "print(price_dic)\n",
    "print(luggage_dic)\n",
    "# call function and print results\n",
    "print(get_value(price_dic,'A'+str(key_number))) # creat key: 'A' + str(key_number)\n",
    "print(get_value(luggage_dic,'A'+str(key_number)))"
   ]
  },
  {
   "cell_type": "code",
   "execution_count": null,
   "metadata": {},
   "outputs": [],
   "source": []
  }
 ],
 "metadata": {
  "kernelspec": {
   "display_name": "Python 3",
   "language": "python",
   "name": "python3"
  },
  "language_info": {
   "codemirror_mode": {
    "name": "ipython",
    "version": 3
   },
   "file_extension": ".py",
   "mimetype": "text/x-python",
   "name": "python",
   "nbconvert_exporter": "python",
   "pygments_lexer": "ipython3",
   "version": "3.8.3"
  }
 },
 "nbformat": 4,
 "nbformat_minor": 4
}
