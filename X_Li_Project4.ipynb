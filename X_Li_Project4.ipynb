{
 "cells": [
  {
   "cell_type": "markdown",
   "metadata": {},
   "source": [
    "# Phase I: Data Acquisition, Data Preparation & Exploratory Data Analysis"
   ]
  },
  {
   "cell_type": "markdown",
   "metadata": {},
   "source": [
    "## Data Aquisition"
   ]
  },
  {
   "cell_type": "code",
   "execution_count": 2,
   "metadata": {},
   "outputs": [],
   "source": [
    "#import pandas library\n",
    "import pandas as pd"
   ]
  },
  {
   "cell_type": "markdown",
   "metadata": {},
   "source": [
    "I'll choose 'edible_or_poisonous','cap-shape', 'cap-surface', 'odor' from the mushroom dataset and add the relative column names"
   ]
  },
  {
   "cell_type": "code",
   "execution_count": 3,
   "metadata": {},
   "outputs": [
    {
     "data": {
      "text/html": [
       "<div>\n",
       "<style scoped>\n",
       "    .dataframe tbody tr th:only-of-type {\n",
       "        vertical-align: middle;\n",
       "    }\n",
       "\n",
       "    .dataframe tbody tr th {\n",
       "        vertical-align: top;\n",
       "    }\n",
       "\n",
       "    .dataframe thead th {\n",
       "        text-align: right;\n",
       "    }\n",
       "</style>\n",
       "<table border=\"1\" class=\"dataframe\">\n",
       "  <thead>\n",
       "    <tr style=\"text-align: right;\">\n",
       "      <th></th>\n",
       "      <th>edible_or_poisonous</th>\n",
       "      <th>cap-shape</th>\n",
       "      <th>cap-surface</th>\n",
       "      <th>odor</th>\n",
       "    </tr>\n",
       "  </thead>\n",
       "  <tbody>\n",
       "    <tr>\n",
       "      <th>0</th>\n",
       "      <td>p</td>\n",
       "      <td>x</td>\n",
       "      <td>s</td>\n",
       "      <td>p</td>\n",
       "    </tr>\n",
       "    <tr>\n",
       "      <th>1</th>\n",
       "      <td>e</td>\n",
       "      <td>x</td>\n",
       "      <td>s</td>\n",
       "      <td>a</td>\n",
       "    </tr>\n",
       "    <tr>\n",
       "      <th>2</th>\n",
       "      <td>e</td>\n",
       "      <td>b</td>\n",
       "      <td>s</td>\n",
       "      <td>l</td>\n",
       "    </tr>\n",
       "    <tr>\n",
       "      <th>3</th>\n",
       "      <td>p</td>\n",
       "      <td>x</td>\n",
       "      <td>y</td>\n",
       "      <td>p</td>\n",
       "    </tr>\n",
       "    <tr>\n",
       "      <th>4</th>\n",
       "      <td>e</td>\n",
       "      <td>x</td>\n",
       "      <td>s</td>\n",
       "      <td>n</td>\n",
       "    </tr>\n",
       "  </tbody>\n",
       "</table>\n",
       "</div>"
      ],
      "text/plain": [
       "  edible_or_poisonous cap-shape cap-surface odor\n",
       "0                   p         x           s    p\n",
       "1                   e         x           s    a\n",
       "2                   e         b           s    l\n",
       "3                   p         x           y    p\n",
       "4                   e         x           s    n"
      ]
     },
     "execution_count": 3,
     "metadata": {},
     "output_type": "execute_result"
    }
   ],
   "source": [
    "header_list = ['edible_or_poisonous','cap-shape', 'cap-surface', 'odor']\n",
    "# usecols are the 0th, 1th, 2th and 5th according to the Attribute Information\n",
    "df = pd.read_csv('https://archive.ics.uci.edu/ml/machine-learning-databases/mushroom/agaricus-lepiota.data', header = None, usecols=[0,1,2,5], names = header_list)\n",
    "df.head()"
   ]
  },
  {
   "cell_type": "markdown",
   "metadata": {},
   "source": [
    "## Data Preparation"
   ]
  },
  {
   "cell_type": "code",
   "execution_count": 4,
   "metadata": {},
   "outputs": [
    {
     "data": {
      "text/html": [
       "<div>\n",
       "<style scoped>\n",
       "    .dataframe tbody tr th:only-of-type {\n",
       "        vertical-align: middle;\n",
       "    }\n",
       "\n",
       "    .dataframe tbody tr th {\n",
       "        vertical-align: top;\n",
       "    }\n",
       "\n",
       "    .dataframe thead th {\n",
       "        text-align: right;\n",
       "    }\n",
       "</style>\n",
       "<table border=\"1\" class=\"dataframe\">\n",
       "  <thead>\n",
       "    <tr style=\"text-align: right;\">\n",
       "      <th></th>\n",
       "      <th>edible_or_poisonous</th>\n",
       "      <th>cap-shape</th>\n",
       "      <th>cap-surface</th>\n",
       "      <th>odor</th>\n",
       "    </tr>\n",
       "  </thead>\n",
       "  <tbody>\n",
       "    <tr>\n",
       "      <th>0</th>\n",
       "      <td>1</td>\n",
       "      <td>x</td>\n",
       "      <td>s</td>\n",
       "      <td>p</td>\n",
       "    </tr>\n",
       "    <tr>\n",
       "      <th>1</th>\n",
       "      <td>0</td>\n",
       "      <td>x</td>\n",
       "      <td>s</td>\n",
       "      <td>a</td>\n",
       "    </tr>\n",
       "    <tr>\n",
       "      <th>2</th>\n",
       "      <td>0</td>\n",
       "      <td>b</td>\n",
       "      <td>s</td>\n",
       "      <td>l</td>\n",
       "    </tr>\n",
       "    <tr>\n",
       "      <th>3</th>\n",
       "      <td>1</td>\n",
       "      <td>x</td>\n",
       "      <td>y</td>\n",
       "      <td>p</td>\n",
       "    </tr>\n",
       "    <tr>\n",
       "      <th>4</th>\n",
       "      <td>0</td>\n",
       "      <td>x</td>\n",
       "      <td>s</td>\n",
       "      <td>n</td>\n",
       "    </tr>\n",
       "  </tbody>\n",
       "</table>\n",
       "</div>"
      ],
      "text/plain": [
       "   edible_or_poisonous cap-shape cap-surface odor\n",
       "0                    1         x           s    p\n",
       "1                    0         x           s    a\n",
       "2                    0         b           s    l\n",
       "3                    1         x           y    p\n",
       "4                    0         x           s    n"
      ]
     },
     "execution_count": 4,
     "metadata": {},
     "output_type": "execute_result"
    }
   ],
   "source": [
    "# convert the edible_or_poisonous value into digit, 'e' is 0, 'p' is 1\n",
    "df['edible_or_poisonous'].replace(['e','p'], [0,1], inplace=True)\n",
    "df.head()"
   ]
  },
  {
   "cell_type": "markdown",
   "metadata": {},
   "source": [
    "In order to be easily predicted in sklearn, I'll change all categorical features into Dummy numeric data."
   ]
  },
  {
   "cell_type": "code",
   "execution_count": 5,
   "metadata": {},
   "outputs": [
    {
     "data": {
      "text/html": [
       "<div>\n",
       "<style scoped>\n",
       "    .dataframe tbody tr th:only-of-type {\n",
       "        vertical-align: middle;\n",
       "    }\n",
       "\n",
       "    .dataframe tbody tr th {\n",
       "        vertical-align: top;\n",
       "    }\n",
       "\n",
       "    .dataframe thead th {\n",
       "        text-align: right;\n",
       "    }\n",
       "</style>\n",
       "<table border=\"1\" class=\"dataframe\">\n",
       "  <thead>\n",
       "    <tr style=\"text-align: right;\">\n",
       "      <th></th>\n",
       "      <th>edible_or_poisonous</th>\n",
       "      <th>cap-shape_b</th>\n",
       "      <th>cap-shape_c</th>\n",
       "      <th>cap-shape_f</th>\n",
       "      <th>cap-shape_k</th>\n",
       "      <th>cap-shape_s</th>\n",
       "      <th>cap-shape_x</th>\n",
       "      <th>cap-surface_f</th>\n",
       "      <th>cap-surface_g</th>\n",
       "      <th>cap-surface_s</th>\n",
       "      <th>cap-surface_y</th>\n",
       "      <th>odor_a</th>\n",
       "      <th>odor_c</th>\n",
       "      <th>odor_f</th>\n",
       "      <th>odor_l</th>\n",
       "      <th>odor_m</th>\n",
       "      <th>odor_n</th>\n",
       "      <th>odor_p</th>\n",
       "      <th>odor_s</th>\n",
       "      <th>odor_y</th>\n",
       "    </tr>\n",
       "  </thead>\n",
       "  <tbody>\n",
       "    <tr>\n",
       "      <th>0</th>\n",
       "      <td>1</td>\n",
       "      <td>0</td>\n",
       "      <td>0</td>\n",
       "      <td>0</td>\n",
       "      <td>0</td>\n",
       "      <td>0</td>\n",
       "      <td>1</td>\n",
       "      <td>0</td>\n",
       "      <td>0</td>\n",
       "      <td>1</td>\n",
       "      <td>0</td>\n",
       "      <td>0</td>\n",
       "      <td>0</td>\n",
       "      <td>0</td>\n",
       "      <td>0</td>\n",
       "      <td>0</td>\n",
       "      <td>0</td>\n",
       "      <td>1</td>\n",
       "      <td>0</td>\n",
       "      <td>0</td>\n",
       "    </tr>\n",
       "    <tr>\n",
       "      <th>1</th>\n",
       "      <td>0</td>\n",
       "      <td>0</td>\n",
       "      <td>0</td>\n",
       "      <td>0</td>\n",
       "      <td>0</td>\n",
       "      <td>0</td>\n",
       "      <td>1</td>\n",
       "      <td>0</td>\n",
       "      <td>0</td>\n",
       "      <td>1</td>\n",
       "      <td>0</td>\n",
       "      <td>1</td>\n",
       "      <td>0</td>\n",
       "      <td>0</td>\n",
       "      <td>0</td>\n",
       "      <td>0</td>\n",
       "      <td>0</td>\n",
       "      <td>0</td>\n",
       "      <td>0</td>\n",
       "      <td>0</td>\n",
       "    </tr>\n",
       "    <tr>\n",
       "      <th>2</th>\n",
       "      <td>0</td>\n",
       "      <td>1</td>\n",
       "      <td>0</td>\n",
       "      <td>0</td>\n",
       "      <td>0</td>\n",
       "      <td>0</td>\n",
       "      <td>0</td>\n",
       "      <td>0</td>\n",
       "      <td>0</td>\n",
       "      <td>1</td>\n",
       "      <td>0</td>\n",
       "      <td>0</td>\n",
       "      <td>0</td>\n",
       "      <td>0</td>\n",
       "      <td>1</td>\n",
       "      <td>0</td>\n",
       "      <td>0</td>\n",
       "      <td>0</td>\n",
       "      <td>0</td>\n",
       "      <td>0</td>\n",
       "    </tr>\n",
       "    <tr>\n",
       "      <th>3</th>\n",
       "      <td>1</td>\n",
       "      <td>0</td>\n",
       "      <td>0</td>\n",
       "      <td>0</td>\n",
       "      <td>0</td>\n",
       "      <td>0</td>\n",
       "      <td>1</td>\n",
       "      <td>0</td>\n",
       "      <td>0</td>\n",
       "      <td>0</td>\n",
       "      <td>1</td>\n",
       "      <td>0</td>\n",
       "      <td>0</td>\n",
       "      <td>0</td>\n",
       "      <td>0</td>\n",
       "      <td>0</td>\n",
       "      <td>0</td>\n",
       "      <td>1</td>\n",
       "      <td>0</td>\n",
       "      <td>0</td>\n",
       "    </tr>\n",
       "    <tr>\n",
       "      <th>4</th>\n",
       "      <td>0</td>\n",
       "      <td>0</td>\n",
       "      <td>0</td>\n",
       "      <td>0</td>\n",
       "      <td>0</td>\n",
       "      <td>0</td>\n",
       "      <td>1</td>\n",
       "      <td>0</td>\n",
       "      <td>0</td>\n",
       "      <td>1</td>\n",
       "      <td>0</td>\n",
       "      <td>0</td>\n",
       "      <td>0</td>\n",
       "      <td>0</td>\n",
       "      <td>0</td>\n",
       "      <td>0</td>\n",
       "      <td>1</td>\n",
       "      <td>0</td>\n",
       "      <td>0</td>\n",
       "      <td>0</td>\n",
       "    </tr>\n",
       "  </tbody>\n",
       "</table>\n",
       "</div>"
      ],
      "text/plain": [
       "   edible_or_poisonous  cap-shape_b  cap-shape_c  cap-shape_f  cap-shape_k  \\\n",
       "0                    1            0            0            0            0   \n",
       "1                    0            0            0            0            0   \n",
       "2                    0            1            0            0            0   \n",
       "3                    1            0            0            0            0   \n",
       "4                    0            0            0            0            0   \n",
       "\n",
       "   cap-shape_s  cap-shape_x  cap-surface_f  cap-surface_g  cap-surface_s  \\\n",
       "0            0            1              0              0              1   \n",
       "1            0            1              0              0              1   \n",
       "2            0            0              0              0              1   \n",
       "3            0            1              0              0              0   \n",
       "4            0            1              0              0              1   \n",
       "\n",
       "   cap-surface_y  odor_a  odor_c  odor_f  odor_l  odor_m  odor_n  odor_p  \\\n",
       "0              0       0       0       0       0       0       0       1   \n",
       "1              0       1       0       0       0       0       0       0   \n",
       "2              0       0       0       0       1       0       0       0   \n",
       "3              1       0       0       0       0       0       0       1   \n",
       "4              0       0       0       0       0       0       1       0   \n",
       "\n",
       "   odor_s  odor_y  \n",
       "0       0       0  \n",
       "1       0       0  \n",
       "2       0       0  \n",
       "3       0       0  \n",
       "4       0       0  "
      ]
     },
     "execution_count": 5,
     "metadata": {},
     "output_type": "execute_result"
    }
   ],
   "source": [
    "df_dummy = pd.get_dummies(df, prefix=['cap-shape', 'cap-surface', 'odor'])\n",
    "df_dummy.head()"
   ]
  },
  {
   "cell_type": "markdown",
   "metadata": {},
   "source": [
    "## Exploratory Data Analysis"
   ]
  },
  {
   "cell_type": "code",
   "execution_count": 6,
   "metadata": {},
   "outputs": [
    {
     "data": {
      "text/plain": [
       "edible_or_poisonous    0\n",
       "cap-shape              0\n",
       "cap-surface            0\n",
       "odor                   0\n",
       "dtype: int64"
      ]
     },
     "execution_count": 6,
     "metadata": {},
     "output_type": "execute_result"
    }
   ],
   "source": [
    "# check data if includes null value\n",
    "df.isnull().sum()"
   ]
  },
  {
   "cell_type": "code",
   "execution_count": 7,
   "metadata": {},
   "outputs": [
    {
     "name": "stdout",
     "output_type": "stream",
     "text": [
      "<class 'pandas.core.frame.DataFrame'>\n",
      "RangeIndex: 8124 entries, 0 to 8123\n",
      "Data columns (total 4 columns):\n",
      " #   Column               Non-Null Count  Dtype \n",
      "---  ------               --------------  ----- \n",
      " 0   edible_or_poisonous  8124 non-null   int64 \n",
      " 1   cap-shape            8124 non-null   object\n",
      " 2   cap-surface          8124 non-null   object\n",
      " 3   odor                 8124 non-null   object\n",
      "dtypes: int64(1), object(3)\n",
      "memory usage: 254.0+ KB\n"
     ]
    }
   ],
   "source": [
    "# check original data info\n",
    "df.info()"
   ]
  },
  {
   "cell_type": "code",
   "execution_count": 8,
   "metadata": {},
   "outputs": [
    {
     "data": {
      "text/html": [
       "<div>\n",
       "<style scoped>\n",
       "    .dataframe tbody tr th:only-of-type {\n",
       "        vertical-align: middle;\n",
       "    }\n",
       "\n",
       "    .dataframe tbody tr th {\n",
       "        vertical-align: top;\n",
       "    }\n",
       "\n",
       "    .dataframe thead th {\n",
       "        text-align: right;\n",
       "    }\n",
       "</style>\n",
       "<table border=\"1\" class=\"dataframe\">\n",
       "  <thead>\n",
       "    <tr style=\"text-align: right;\">\n",
       "      <th></th>\n",
       "      <th>edible_or_poisonous</th>\n",
       "    </tr>\n",
       "  </thead>\n",
       "  <tbody>\n",
       "    <tr>\n",
       "      <th>count</th>\n",
       "      <td>8124.000000</td>\n",
       "    </tr>\n",
       "    <tr>\n",
       "      <th>mean</th>\n",
       "      <td>0.482029</td>\n",
       "    </tr>\n",
       "    <tr>\n",
       "      <th>std</th>\n",
       "      <td>0.499708</td>\n",
       "    </tr>\n",
       "    <tr>\n",
       "      <th>min</th>\n",
       "      <td>0.000000</td>\n",
       "    </tr>\n",
       "    <tr>\n",
       "      <th>25%</th>\n",
       "      <td>0.000000</td>\n",
       "    </tr>\n",
       "    <tr>\n",
       "      <th>50%</th>\n",
       "      <td>0.000000</td>\n",
       "    </tr>\n",
       "    <tr>\n",
       "      <th>75%</th>\n",
       "      <td>1.000000</td>\n",
       "    </tr>\n",
       "    <tr>\n",
       "      <th>max</th>\n",
       "      <td>1.000000</td>\n",
       "    </tr>\n",
       "  </tbody>\n",
       "</table>\n",
       "</div>"
      ],
      "text/plain": [
       "       edible_or_poisonous\n",
       "count          8124.000000\n",
       "mean              0.482029\n",
       "std               0.499708\n",
       "min               0.000000\n",
       "25%               0.000000\n",
       "50%               0.000000\n",
       "75%               1.000000\n",
       "max               1.000000"
      ]
     },
     "execution_count": 8,
     "metadata": {},
     "output_type": "execute_result"
    }
   ],
   "source": [
    "# show data description\n",
    "df.describe()"
   ]
  },
  {
   "cell_type": "markdown",
   "metadata": {},
   "source": [
    "There are 8124 rows among these data set. And it showed descriptive stats for edible_or_poisonous variables. The mean is 0.482 which is greater than median value of 0. It means that the values are skewed to the right. So I will check the count of edible and poisonous mushroom data."
   ]
  },
  {
   "cell_type": "code",
   "execution_count": 9,
   "metadata": {},
   "outputs": [],
   "source": [
    "import matplotlib.pyplot as plt\n",
    "import seaborn as sns "
   ]
  },
  {
   "cell_type": "code",
   "execution_count": 11,
   "metadata": {},
   "outputs": [
    {
     "data": {
      "image/png": "[encoded data removed]",
      "text/plain": [
       "<Figure size 432x288 with 1 Axes>"
      ]
     },
     "metadata": {
      "needs_background": "light"
     },
     "output_type": "display_data"
    }
   ],
   "source": [
    "ax = sns.countplot(x=\"edible_or_poisonous\", data=df)\n",
    "class_dict = {'Edible':0, 'Poisonous':1}\n",
    "ax.set(xticklabels=class_dict)\n",
    "plt.title('edible_or_poisonous')\n",
    "total = len(df['edible_or_poisonous'])\n",
    "for p in ax.patches:\n",
    "    height = p.get_height()\n",
    "    ax.text(p.get_x()+p.get_width()/2.,\n",
    "            height + 3,\n",
    "            '{:1.3f}%'.format(100*(height/total)),\n",
    "            ha=\"center\")"
   ]
  },
  {
   "cell_type": "markdown",
   "metadata": {},
   "source": [
    "As we can see, the counts of Edible and Poisonous mushroom are quite balanced. This is good for building model."
   ]
  },
  {
   "cell_type": "markdown",
   "metadata": {},
   "source": [
    "Next, I will look at the remaining features vs the 'edible_or_poisonous' with diagrams. "
   ]
  },
  {
   "cell_type": "code",
   "execution_count": 18,
   "metadata": {},
   "outputs": [
    {
     "data": {
      "text/plain": [
       "x    3656\n",
       "f    3152\n",
       "k     828\n",
       "b     452\n",
       "s      32\n",
       "c       4\n",
       "Name: cap-shape, dtype: int64"
      ]
     },
     "metadata": {},
     "output_type": "display_data"
    }
   ],
   "source": [
    "display(df['cap-shape'].value_counts())"
   ]
  },
  {
   "cell_type": "markdown",
   "metadata": {},
   "source": [
    "By displaying the value counts, the shape sample are mainly x:convex and f:flat. I will go to plot the diagram campare to the target."
   ]
  },
  {
   "cell_type": "code",
   "execution_count": 22,
   "metadata": {},
   "outputs": [
    {
     "data": {
      "text/plain": [
       "<matplotlib.axes._subplots.AxesSubplot at 0x22d5583b040>"
      ]
     },
     "execution_count": 22,
     "metadata": {},
     "output_type": "execute_result"
    },
    {
     "data": {
      "image/png": "[encoded data removed]",
      "text/plain": [
       "<Figure size 432x288 with 1 Axes>"
      ]
     },
     "metadata": {
      "needs_background": "light"
     },
     "output_type": "display_data"
    }
   ],
   "source": [
    "p_shape = sns.countplot(x = 'cap-shape',data = df, hue = \"edible_or_poisonous\")\n",
    "p_shape.legend(labels=class_dict)\n",
    "p_shape"
   ]
  },
  {
   "cell_type": "markdown",
   "metadata": {},
   "source": [
    "Based on the diagram, \"b\" and \"s\" shapes look more likely to be edible."
   ]
  },
  {
   "cell_type": "code",
   "execution_count": 23,
   "metadata": {},
   "outputs": [
    {
     "data": {
      "text/plain": [
       "y    3244\n",
       "s    2556\n",
       "f    2320\n",
       "g       4\n",
       "Name: cap-surface, dtype: int64"
      ]
     },
     "metadata": {},
     "output_type": "display_data"
    }
   ],
   "source": [
    "display(df['cap-surface'].value_counts())"
   ]
  },
  {
   "cell_type": "markdown",
   "metadata": {},
   "source": [
    "By displaying the value counts, the surface sample are mainly y:scaly and s:smooth and f:fibrous. I will go to plot the diagram campare to the target."
   ]
  },
  {
   "cell_type": "code",
   "execution_count": 24,
   "metadata": {},
   "outputs": [
    {
     "data": {
      "text/plain": [
       "<matplotlib.axes._subplots.AxesSubplot at 0x22d55f41370>"
      ]
     },
     "execution_count": 24,
     "metadata": {},
     "output_type": "execute_result"
    },
    {
     "data": {
      "image/png": "[encoded data removed]",
      "text/plain": [
       "<Figure size 432x288 with 1 Axes>"
      ]
     },
     "metadata": {
      "needs_background": "light"
     },
     "output_type": "display_data"
    }
   ],
   "source": [
    "p_surface = sns.countplot(x = 'cap-surface',data = df, hue = \"edible_or_poisonous\")\n",
    "p_surface.legend(labels=class_dict)\n",
    "p_surface"
   ]
  },
  {
   "cell_type": "markdown",
   "metadata": {},
   "source": [
    "There are few values of g in surface."
   ]
  },
  {
   "cell_type": "code",
   "execution_count": 25,
   "metadata": {},
   "outputs": [
    {
     "data": {
      "text/plain": [
       "n    3528\n",
       "f    2160\n",
       "s     576\n",
       "y     576\n",
       "a     400\n",
       "l     400\n",
       "p     256\n",
       "c     192\n",
       "m      36\n",
       "Name: odor, dtype: int64"
      ]
     },
     "metadata": {},
     "output_type": "display_data"
    }
   ],
   "source": [
    "display(df['odor'].value_counts())"
   ]
  },
  {
   "cell_type": "markdown",
   "metadata": {},
   "source": [
    "By displaying the value counts, the odor sample are mainly n:none and f:foul. I will go to plot the diagram campare to the target."
   ]
  },
  {
   "cell_type": "code",
   "execution_count": 27,
   "metadata": {},
   "outputs": [
    {
     "data": {
      "text/plain": [
       "<matplotlib.axes._subplots.AxesSubplot at 0x22d5650f100>"
      ]
     },
     "execution_count": 27,
     "metadata": {},
     "output_type": "execute_result"
    },
    {
     "data": {
      "image/png": "[encoded data removed]",
      "text/plain": [
       "<Figure size 432x288 with 1 Axes>"
      ]
     },
     "metadata": {
      "needs_background": "light"
     },
     "output_type": "display_data"
    }
   ],
   "source": [
    "p_odor = sns.countplot(x = 'odor',data = df, hue = \"edible_or_poisonous\")\n",
    "p_odor.legend(labels=class_dict)\n",
    "p_odor"
   ]
  },
  {
   "cell_type": "markdown",
   "metadata": {},
   "source": [
    "The \"ordor\" feature may be a better indicator of whether mushrooms are edible or poisonous because the data are clearly unbalanced."
   ]
  },
  {
   "cell_type": "markdown",
   "metadata": {},
   "source": [
    "After then, I will see the correlation between all columns in dummy dataset roughly."
   ]
  },
  {
   "cell_type": "code",
   "execution_count": 29,
   "metadata": {},
   "outputs": [
    {
     "data": {
      "text/plain": [
       "<matplotlib.axes._subplots.AxesSubplot at 0x22d566c19d0>"
      ]
     },
     "execution_count": 29,
     "metadata": {},
     "output_type": "execute_result"
    },
    {
     "data": {
      "image/png": "[encoded data removed]",
      "text/plain": [
       "<Figure size 1080x720 with 2 Axes>"
      ]
     },
     "metadata": {
      "needs_background": "light"
     },
     "output_type": "display_data"
    }
   ],
   "source": [
    "plt.figure(figsize=(15,10))\n",
    "sns.heatmap(df_dummy.corr(),annot=True)"
   ]
  },
  {
   "cell_type": "markdown",
   "metadata": {},
   "source": [
    "According to heatmap, Ordor_f and Ordor_n are likely to be high indicators, as their correlation scores exceed 0.5.\n",
    "In order to understand the ranking of all indicators related to the target in the virtual data, I will divide and fit the data to obtain the characteristic ranking as shown below."
   ]
  },
  {
   "cell_type": "markdown",
   "metadata": {},
   "source": [
    "# Phase II: Build Predictive Models"
   ]
  },
  {
   "cell_type": "markdown",
   "metadata": {},
   "source": [
    "## Feature determination"
   ]
  },
  {
   "cell_type": "markdown",
   "metadata": {},
   "source": [
    "### Chi-square testing for selecting categorical feature\n",
    "I will use chi-squared statistic for feature selection on categorical data. To use chi-square test，we also need to run ordinalcoder to the explantory variable. variable. Then select K best function is to select the k lowest p-values based on chi2 Statistics. Thus p value gave the score of these relevant features."
   ]
  },
  {
   "cell_type": "code",
   "execution_count": 15,
   "metadata": {},
   "outputs": [
    {
     "name": "stdout",
     "output_type": "stream",
     "text": [
      "(5686, 19)\n",
      "(5686,)\n",
      "(2438, 19)\n",
      "(2438,)\n"
     ]
    }
   ],
   "source": [
    "from sklearn.model_selection import train_test_split\n",
    "\n",
    "train_data = df_dummy.drop(columns = [\"edible_or_poisonous\"])\n",
    "train_target = df_dummy['edible_or_poisonous']\n",
    "\n",
    "#The data is divided into training set and test set\n",
    "X_train,X_test,Y_train,Y_test = train_test_split(train_data,train_target,test_size = 0.3,random_state = 1)\n",
    "print(X_train.shape)\n",
    "print(Y_train.shape)\n",
    "print(X_test.shape)\n",
    "print(Y_test.shape)"
   ]
  },
  {
   "cell_type": "code",
   "execution_count": 16,
   "metadata": {},
   "outputs": [
    {
     "data": {
      "text/html": [
       "<div>\n",
       "<style scoped>\n",
       "    .dataframe tbody tr th:only-of-type {\n",
       "        vertical-align: middle;\n",
       "    }\n",
       "\n",
       "    .dataframe tbody tr th {\n",
       "        vertical-align: top;\n",
       "    }\n",
       "\n",
       "    .dataframe thead th {\n",
       "        text-align: right;\n",
       "    }\n",
       "</style>\n",
       "<table border=\"1\" class=\"dataframe\">\n",
       "  <thead>\n",
       "    <tr style=\"text-align: right;\">\n",
       "      <th></th>\n",
       "      <th>element</th>\n",
       "      <th>Score</th>\n",
       "    </tr>\n",
       "  </thead>\n",
       "  <tbody>\n",
       "    <tr>\n",
       "      <th>15</th>\n",
       "      <td>odor_n</td>\n",
       "      <td>2836.187954</td>\n",
       "    </tr>\n",
       "    <tr>\n",
       "      <th>12</th>\n",
       "      <td>odor_f</td>\n",
       "      <td>2321.062308</td>\n",
       "    </tr>\n",
       "    <tr>\n",
       "      <th>18</th>\n",
       "      <td>odor_y</td>\n",
       "      <td>618.949949</td>\n",
       "    </tr>\n",
       "    <tr>\n",
       "      <th>17</th>\n",
       "      <td>odor_s</td>\n",
       "      <td>618.949949</td>\n",
       "    </tr>\n",
       "    <tr>\n",
       "      <th>10</th>\n",
       "      <td>odor_a</td>\n",
       "      <td>372.243346</td>\n",
       "    </tr>\n",
       "    <tr>\n",
       "      <th>13</th>\n",
       "      <td>odor_l</td>\n",
       "      <td>372.243346</td>\n",
       "    </tr>\n",
       "    <tr>\n",
       "      <th>16</th>\n",
       "      <td>odor_p</td>\n",
       "      <td>275.088866</td>\n",
       "    </tr>\n",
       "    <tr>\n",
       "      <th>0</th>\n",
       "      <td>cap-shape_b</td>\n",
       "      <td>255.712333</td>\n",
       "    </tr>\n",
       "    <tr>\n",
       "      <th>6</th>\n",
       "      <td>cap-surface_f</td>\n",
       "      <td>221.636970</td>\n",
       "    </tr>\n",
       "    <tr>\n",
       "      <th>11</th>\n",
       "      <td>odor_c</td>\n",
       "      <td>206.316650</td>\n",
       "    </tr>\n",
       "    <tr>\n",
       "      <th>3</th>\n",
       "      <td>cap-shape_k</td>\n",
       "      <td>195.193796</td>\n",
       "    </tr>\n",
       "    <tr>\n",
       "      <th>8</th>\n",
       "      <td>cap-surface_s</td>\n",
       "      <td>50.733158</td>\n",
       "    </tr>\n",
       "    <tr>\n",
       "      <th>14</th>\n",
       "      <td>odor_m</td>\n",
       "      <td>38.684372</td>\n",
       "    </tr>\n",
       "    <tr>\n",
       "      <th>9</th>\n",
       "      <td>cap-surface_y</td>\n",
       "      <td>38.374439</td>\n",
       "    </tr>\n",
       "    <tr>\n",
       "      <th>4</th>\n",
       "      <td>cap-shape_s</td>\n",
       "      <td>29.779468</td>\n",
       "    </tr>\n",
       "    <tr>\n",
       "      <th>1</th>\n",
       "      <td>cap-shape_c</td>\n",
       "      <td>4.298264</td>\n",
       "    </tr>\n",
       "    <tr>\n",
       "      <th>7</th>\n",
       "      <td>cap-surface_g</td>\n",
       "      <td>4.298264</td>\n",
       "    </tr>\n",
       "    <tr>\n",
       "      <th>5</th>\n",
       "      <td>cap-shape_x</td>\n",
       "      <td>3.229664</td>\n",
       "    </tr>\n",
       "    <tr>\n",
       "      <th>2</th>\n",
       "      <td>cap-shape_f</td>\n",
       "      <td>1.706428</td>\n",
       "    </tr>\n",
       "  </tbody>\n",
       "</table>\n",
       "</div>"
      ],
      "text/plain": [
       "          element        Score\n",
       "15         odor_n  2836.187954\n",
       "12         odor_f  2321.062308\n",
       "18         odor_y   618.949949\n",
       "17         odor_s   618.949949\n",
       "10         odor_a   372.243346\n",
       "13         odor_l   372.243346\n",
       "16         odor_p   275.088866\n",
       "0     cap-shape_b   255.712333\n",
       "6   cap-surface_f   221.636970\n",
       "11         odor_c   206.316650\n",
       "3     cap-shape_k   195.193796\n",
       "8   cap-surface_s    50.733158\n",
       "14         odor_m    38.684372\n",
       "9   cap-surface_y    38.374439\n",
       "4     cap-shape_s    29.779468\n",
       "1     cap-shape_c     4.298264\n",
       "7   cap-surface_g     4.298264\n",
       "5     cap-shape_x     3.229664\n",
       "2     cap-shape_f     1.706428"
      ]
     },
     "execution_count": 16,
     "metadata": {},
     "output_type": "execute_result"
    }
   ],
   "source": [
    "from sklearn.feature_selection import SelectKBest\n",
    "from sklearn.feature_selection import chi2\n",
    "\n",
    "bestfeatures = SelectKBest(score_func=chi2, k=10)\n",
    "fit = bestfeatures.fit(train_data,train_target)\n",
    "dfscores = pd.DataFrame(fit.scores_)\n",
    "dfcolumns = pd.DataFrame(train_data.columns)\n",
    "#concat two dataframes for better visualization \n",
    "featureScores = pd.concat([dfcolumns,dfscores],axis=1)\n",
    "featureScores.columns = ['element','Score']  #naming the dataframe columns\n",
    "featureScores = featureScores.sort_values(by='Score', ascending=False) # set the order from high to low\n",
    "featureScores"
   ]
  },
  {
   "cell_type": "markdown",
   "metadata": {},
   "source": [
    "Based on the table, we can see the most important features in the top are odor, which demonstrated the assumption before."
   ]
  },
  {
   "cell_type": "markdown",
   "metadata": {},
   "source": [
    "plot the correlation ranking score by featureScores dataframe."
   ]
  },
  {
   "cell_type": "code",
   "execution_count": 17,
   "metadata": {},
   "outputs": [
    {
     "data": {
      "image/png": "[encoded data removed]",
      "text/plain": [
       "<Figure size 1440x360 with 1 Axes>"
      ]
     },
     "metadata": {
      "needs_background": "light"
     },
     "output_type": "display_data"
    }
   ],
   "source": [
    "plt.figure(figsize=(20,5))\n",
    "plt.xticks(rotation=20)\n",
    "sns.barplot(x='element', y='Score', data= featureScores)\n",
    "plt.box(False)\n",
    "plt.xlabel('Features', fontsize=16)\n",
    "plt.ylabel('Importance',fontsize=16)\n",
    "plt.show()"
   ]
  },
  {
   "cell_type": "markdown",
   "metadata": {},
   "source": [
    "Based on the score, I choose the 6 most important features as folllows:\n",
    "- odor_n\n",
    "- odor_f\n",
    "- odor_y\n",
    "- odor_s\n",
    "- odor_a\n",
    "- odor_l"
   ]
  },
  {
   "cell_type": "markdown",
   "metadata": {},
   "source": [
    "In this section, I will prepare the data by spliting it to training and testing data.\n",
    "Then I will build a logistic model to predict which features is most helpful to predict whether mushrooms are edible or poisonous, since it is a question of \"yes\" or \"no\"."
   ]
  },
  {
   "cell_type": "markdown",
   "metadata": {},
   "source": [
    "since the target data are balanced, I won't need to use the smote to adjust the data"
   ]
  },
  {
   "cell_type": "code",
   "execution_count": 32,
   "metadata": {},
   "outputs": [
    {
     "data": {
      "text/plain": [
       "['edible_or_poisonous',\n",
       " 'cap-shape_b',\n",
       " 'cap-shape_c',\n",
       " 'cap-shape_f',\n",
       " 'cap-shape_k',\n",
       " 'cap-shape_s',\n",
       " 'cap-shape_x',\n",
       " 'cap-surface_f',\n",
       " 'cap-surface_g',\n",
       " 'cap-surface_s',\n",
       " 'cap-surface_y',\n",
       " 'odor_a',\n",
       " 'odor_c',\n",
       " 'odor_f',\n",
       " 'odor_l',\n",
       " 'odor_m',\n",
       " 'odor_n',\n",
       " 'odor_p',\n",
       " 'odor_s',\n",
       " 'odor_y']"
      ]
     },
     "execution_count": 32,
     "metadata": {},
     "output_type": "execute_result"
    }
   ],
   "source": [
    "# check the df_dummy dataset data type and shape\n",
    "df_dummy.columns.to_list()"
   ]
  },
  {
   "cell_type": "markdown",
   "metadata": {},
   "source": [
    "## predictor detemine"
   ]
  },
  {
   "cell_type": "markdown",
   "metadata": {},
   "source": [
    "Import the train_test_split function from the Sklearn library and split the target and training data in each feature."
   ]
  },
  {
   "cell_type": "code",
   "execution_count": 33,
   "metadata": {},
   "outputs": [],
   "source": [
    "#pick  features for modeling\n",
    "\n",
    "X = df_dummy[['odor_n','odor_f','odor_y','odor_s','odor_a','odor_l']]\n",
    "y = df_dummy['edible_or_poisonous']"
   ]
  },
  {
   "cell_type": "code",
   "execution_count": 35,
   "metadata": {},
   "outputs": [],
   "source": [
    "from sklearn.model_selection import train_test_split\n",
    "X_train, X_test, y_train, y_test = train_test_split(X,y,test_size=0.3, random_state=123)"
   ]
  },
  {
   "cell_type": "code",
   "execution_count": 36,
   "metadata": {},
   "outputs": [
    {
     "name": "stdout",
     "output_type": "stream",
     "text": [
      "X_train (5686, 6)\n",
      "X_test (2438, 6)\n",
      "y_train (5686,)\n",
      "y_test (2438,)\n"
     ]
    }
   ],
   "source": [
    "print(\"X_train\", X_train.shape)\n",
    "print(\"X_test\", X_test.shape)\n",
    "print(\"y_train\", y_train.shape)\n",
    "print(\"y_test\", y_test.shape)"
   ]
  },
  {
   "cell_type": "markdown",
   "metadata": {},
   "source": [
    "Now we will start the model building. The one reason I list these  varieties of algorithms are based on the requirement of ensembling model. To gurantee the performance of the Ensemble model, I need to let base models to be diverse and independant. Thus can reduce the prediction error. "
   ]
  },
  {
   "cell_type": "code",
   "execution_count": 39,
   "metadata": {},
   "outputs": [],
   "source": [
    "# Classification\n",
    "from sklearn.metrics import accuracy_score,precision_score,recall_score,f1_score  \n",
    "from sklearn.model_selection import cross_val_score"
   ]
  },
  {
   "cell_type": "code",
   "execution_count": 37,
   "metadata": {},
   "outputs": [],
   "source": [
    "# Collect all scores and mean accuracy\n",
    "Scores = []\n",
    "CV_Scores = []\n",
    "Accuracy = []\n",
    "Precision = []\n",
    "Recall = []\n",
    "F1_score = []\n",
    "models = ['logistic regression', 'KNN', 'Random Forest']# 'SVM', 'XG Boost Classifier', 'MLPClassifier', 'VotingClassifier'"
   ]
  },
  {
   "cell_type": "markdown",
   "metadata": {},
   "source": [
    "Before I start all six models, we would like to mention the general process I did for all models. We either use algorithm or choose manually for hyperparameters. For the training part, we use cross validation to test how well model fits the training data. I use 5 fold crossvalidation for its low bias and modest variance."
   ]
  },
  {
   "cell_type": "markdown",
   "metadata": {},
   "source": [
    "### Logistic Regression Model"
   ]
  },
  {
   "cell_type": "markdown",
   "metadata": {},
   "source": [
    "Building the Logistic regression model to fit training data and predict the test data"
   ]
  },
  {
   "cell_type": "code",
   "execution_count": 40,
   "metadata": {},
   "outputs": [
    {
     "name": "stdout",
     "output_type": "stream",
     "text": [
      "\n",
      "###### Logistic Regression ######\n",
      "Score : 0.9836\n",
      "cv_score : 0.9859\n",
      "Accuracy: 98.35931091058244\n",
      "Precision: 98.40937007425651\n",
      "Recall: 98.35931091058244\n",
      "F1-score: 98.35771540208336\n"
     ]
    },
    {
     "name": "stderr",
     "output_type": "stream",
     "text": [
      "[Parallel(n_jobs=1)]: Using backend SequentialBackend with 1 concurrent workers.\n",
      "[Parallel(n_jobs=1)]: Done   5 out of   5 | elapsed:    0.0s finished\n"
     ]
    }
   ],
   "source": [
    "from sklearn.linear_model import LogisticRegression\n",
    "\n",
    "#Start with default setting for logistic regression\n",
    "Model_LogReg = LogisticRegression()\n",
    "\n",
    "#train the algorithm\n",
    "Model_LogReg.fit(X_train, y_train)\n",
    "\n",
    "#fold validation\n",
    "cv_score = cross_val_score(estimator = Model_LogReg, X = X_train, y = y_train, cv = 5,verbose = 1)\n",
    "y_pred = Model_LogReg.predict(X_test)\n",
    "\n",
    "print('')\n",
    "print('###### Logistic Regression ######')\n",
    "print('Score : %.4f' % Model_LogReg.score(X_test, y_test))\n",
    "print('cv_score : %.4f' % cv_score.mean())\n",
    "print('Accuracy:', 100* accuracy_score(y_test,y_pred))\n",
    "print('Precision:', 100* precision_score(y_test,y_pred,average='weighted')) # for imbalanced data\n",
    "print('Recall:', 100* recall_score(y_test,y_pred,average='weighted'))\n",
    "print('F1-score:', 100* f1_score(y_test,y_pred,average='weighted'))\n",
    "Accuracy.append(100* accuracy_score(y_test,y_pred))\n",
    "Precision.append(100* precision_score(y_test,y_pred,average='weighted'))\n",
    "Recall.append(100* recall_score(y_test,y_pred,average='weighted'))\n",
    "F1_score.append(100* f1_score(y_test,y_pred,average='weighted'))\n",
    "CV_Scores.append(cv_score.mean())\n",
    "Scores.append(Model_LogReg.score(X_test, y_test))"
   ]
  },
  {
   "cell_type": "markdown",
   "metadata": {},
   "source": [
    "### KNN"
   ]
  },
  {
   "cell_type": "markdown",
   "metadata": {},
   "source": [
    "Since KNN requires the selection of K, as we know, a small value of k means that noise will have a higher influence on the result and a large value make it computationally expensive. We choose k=3 asstart point and gradually choose other K values until reached around the square root of sample size n as our models. Since this algorithm is not computing expensive, we can directly use grid search to find the best parameter."
   ]
  },
  {
   "cell_type": "code",
   "execution_count": 42,
   "metadata": {},
   "outputs": [
    {
     "name": "stdout",
     "output_type": "stream",
     "text": [
      "GridSearchCV(estimator=KNeighborsClassifier(),\n",
      "             param_grid={'n_neighbors': [3, 5, 16, 26, 100, 212]})\n",
      "Best Score:  0.9895327635327635\n",
      "Best parameters:  {'n_neighbors': 3}\n"
     ]
    }
   ],
   "source": [
    "# grid search\n",
    "from sklearn.neural_network import MLPClassifier\n",
    "from sklearn.model_selection import GridSearchCV\n",
    "\n",
    "#defining grid\n",
    "#train sample size is 45032, whose sqrt is 212\n",
    "n_neighbor = [3,5,16,26,100,212]\n",
    "\n",
    "X_train1, X_test1, y_train1, y_test1 = train_test_split(X, y, test_size=0.8, random_state=22)\n",
    "\n",
    "# create and fit  model, testing each parameters\n",
    "from sklearn.neighbors import KNeighborsClassifier\n",
    "knn_grid = GridSearchCV(estimator=KNeighborsClassifier(), param_grid=dict(n_neighbors=n_neighbor))\n",
    "knn_grid.fit(X_train1, y_train1)\n",
    "print(knn_grid)\n",
    "# summarize the results of the grid search\n",
    "print('Best Score: ',knn_grid.best_score_)\n",
    "print('Best parameters: ',knn_grid.best_params_)"
   ]
  },
  {
   "cell_type": "code",
   "execution_count": 44,
   "metadata": {},
   "outputs": [
    {
     "name": "stderr",
     "output_type": "stream",
     "text": [
      "[Parallel(n_jobs=1)]: Using backend SequentialBackend with 1 concurrent workers.\n",
      "[Parallel(n_jobs=1)]: Done   5 out of   5 | elapsed:    0.0s finished\n"
     ]
    },
    {
     "name": "stdout",
     "output_type": "stream",
     "text": [
      "\n",
      "###### KNN ######\n",
      "Score : 0.9842\n",
      "cv_score : 0.9895\n",
      "Accuracy: 98.41538461538461\n",
      "Precision: 98.46248862248862\n",
      "Recall: 98.41538461538461\n",
      "F1-score: 98.41411818108114\n"
     ]
    }
   ],
   "source": [
    "#KNN \n",
    "\n",
    "from sklearn.model_selection import train_test_split\n",
    "\n",
    "\n",
    "# Here we will use MinMaxscaler to scale these numerical values.\n",
    "from sklearn.preprocessing import MinMaxScaler\n",
    "#MinMax subtracts the minimum value in the feature and then divides by the range\n",
    "scaler = MinMaxScaler()\n",
    "X_train1 = scaler.fit_transform(X_train1)\n",
    "X_test1 = scaler.transform(X_test1)\n",
    "\n",
    "#set k=3\n",
    "# try knn = KNeighborsClassifier(n_neighbors=5)\n",
    "# try knn = KNeighborsClassifier(n_neighbors=113)\n",
    "knn = KNeighborsClassifier(n_neighbors=3)\n",
    "knn.fit(X_train1, y_train1)\n",
    "cv_score = cross_val_score(estimator = knn, X = X_train1, y = y_train1, cv = 5,verbose = 1)\n",
    "y_pred = knn.predict(X_test1)\n",
    "print('')\n",
    "print('###### KNN ######')\n",
    "print('Score : %.4f' % knn.score(X_test1, y_test1))\n",
    "print('cv_score : %.4f' % cv_score.mean())\n",
    "print('Accuracy:', 100* accuracy_score(y_test1,y_pred))\n",
    "print('Precision:', 100* precision_score(y_test1,y_pred,average='weighted')) # for imbalanced data\n",
    "print('Recall:', 100* recall_score(y_test1,y_pred,average='weighted'))\n",
    "print('F1-score:', 100* f1_score(y_test1,y_pred,average='weighted'))\n",
    "Accuracy.append(100* accuracy_score(y_test1,y_pred))\n",
    "Precision.append(100* precision_score(y_test1,y_pred,average='weighted'))\n",
    "Recall.append(100* recall_score(y_test1,y_pred,average='weighted'))\n",
    "F1_score.append(100* f1_score(y_test1,y_pred,average='weighted'))\n",
    "CV_Scores.append(cv_score.mean())\n",
    "Scores.append(knn.score(X_test1, y_test1))"
   ]
  },
  {
   "cell_type": "markdown",
   "metadata": {},
   "source": [
    "### Random forest"
   ]
  },
  {
   "cell_type": "markdown",
   "metadata": {},
   "source": [
    "In this model, higher number of trees will reduce the variance of model. n_estimators means the number of trees in the forest, and the default 100 n_estimators does perform good in our model. I vary n_estimators based on one of our reference on suggestion. When the number of trees is high, it is also better for model to learn the data, due to the imbalanced nature of the dataset, we set weight to be balanced. Since higher max_depth may raise the risk of overfitting the training data, we set it to be 16 as some literature suggested."
   ]
  },
  {
   "cell_type": "code",
   "execution_count": 45,
   "metadata": {},
   "outputs": [
    {
     "name": "stderr",
     "output_type": "stream",
     "text": [
      "[Parallel(n_jobs=1)]: Using backend SequentialBackend with 1 concurrent workers.\n",
      "[Parallel(n_jobs=1)]: Done   5 out of   5 | elapsed:    2.5s finished\n"
     ]
    },
    {
     "name": "stdout",
     "output_type": "stream",
     "text": [
      "\n",
      "###### Random Forest ######\n",
      "Score : 0.9836\n",
      "cv_score : 0.9859\n",
      "Accuracy: 98.35931091058244\n",
      "Precision: 98.40937007425651\n",
      "Recall: 98.35931091058244\n",
      "F1-score: 98.35771540208336\n"
     ]
    }
   ],
   "source": [
    "from sklearn.ensemble import RandomForestClassifier\n",
    "#rnd_clf = RandomForestClassifier(n_estimators=100,  random_state=42)\n",
    "#rnd_clf = RandomForestClassifier(n_estimators=200,class_weight='balanced',  random_state=42)\n",
    "#rnd_clf = RandomForestClassifier(n_estimators=64,class_weight='balanced',  random_state=42)\n",
    "#rnd_clf = RandomForestClassifier(n_estimators=100,class_weight='balanced', max_depth=32,  random_state=42)\n",
    "rnd_clf = RandomForestClassifier(n_estimators=100,class_weight='balanced', max_depth=16,  random_state=42)\n",
    "rnd_clf.fit(X_train, y_train)\n",
    "cv_score = cross_val_score(estimator = rnd_clf, X = X_train, y = y_train, cv = 5,verbose = 1)\n",
    "y_pred = rnd_clf.predict(X_test)\n",
    "print('')\n",
    "print('###### Random Forest ######')\n",
    "print('Score : %.4f' % rnd_clf.score(X_test, y_test))\n",
    "print('cv_score : %.4f' % cv_score.mean())\n",
    "print('Accuracy:', 100* accuracy_score(y_test,y_pred))\n",
    "print('Precision:', 100* precision_score(y_test,y_pred,average='weighted')) # for imbalanced data\n",
    "print('Recall:', 100* recall_score(y_test,y_pred,average='weighted'))\n",
    "print('F1-score:', 100* f1_score(y_test,y_pred,average='weighted'))\n",
    "Accuracy.append(100* accuracy_score(y_test,y_pred))\n",
    "Precision.append(100* precision_score(y_test,y_pred,average='weighted'))\n",
    "Recall.append(100* recall_score(y_test,y_pred,average='weighted'))\n",
    "F1_score.append(100* f1_score(y_test,y_pred,average='weighted'))\n",
    "CV_Scores.append(cv_score.mean())\n",
    "Scores.append(rnd_clf.score(X_test, y_test))"
   ]
  },
  {
   "cell_type": "markdown",
   "metadata": {},
   "source": [
    "## Model Selection"
   ]
  },
  {
   "cell_type": "code",
   "execution_count": 46,
   "metadata": {},
   "outputs": [
    {
     "data": {
      "text/html": [
       "<div>\n",
       "<style scoped>\n",
       "    .dataframe tbody tr th:only-of-type {\n",
       "        vertical-align: middle;\n",
       "    }\n",
       "\n",
       "    .dataframe tbody tr th {\n",
       "        vertical-align: top;\n",
       "    }\n",
       "\n",
       "    .dataframe thead th {\n",
       "        text-align: right;\n",
       "    }\n",
       "</style>\n",
       "<table border=\"1\" class=\"dataframe\">\n",
       "  <thead>\n",
       "    <tr style=\"text-align: right;\">\n",
       "      <th></th>\n",
       "      <th>Algorithms</th>\n",
       "      <th>Scores</th>\n",
       "      <th>Cross_Val</th>\n",
       "      <th>Accuracy(%)</th>\n",
       "      <th>Precision(%)</th>\n",
       "      <th>Recall(%)</th>\n",
       "      <th>F1-score(%)</th>\n",
       "    </tr>\n",
       "  </thead>\n",
       "  <tbody>\n",
       "    <tr>\n",
       "      <th>1</th>\n",
       "      <td>KNN</td>\n",
       "      <td>0.984154</td>\n",
       "      <td>0.989533</td>\n",
       "      <td>98.415385</td>\n",
       "      <td>98.462489</td>\n",
       "      <td>98.415385</td>\n",
       "      <td>98.414118</td>\n",
       "    </tr>\n",
       "    <tr>\n",
       "      <th>0</th>\n",
       "      <td>logistic regression</td>\n",
       "      <td>0.983593</td>\n",
       "      <td>0.985930</td>\n",
       "      <td>98.359311</td>\n",
       "      <td>98.409370</td>\n",
       "      <td>98.359311</td>\n",
       "      <td>98.357715</td>\n",
       "    </tr>\n",
       "    <tr>\n",
       "      <th>2</th>\n",
       "      <td>Random Forest</td>\n",
       "      <td>0.983593</td>\n",
       "      <td>0.985930</td>\n",
       "      <td>98.359311</td>\n",
       "      <td>98.409370</td>\n",
       "      <td>98.359311</td>\n",
       "      <td>98.357715</td>\n",
       "    </tr>\n",
       "  </tbody>\n",
       "</table>\n",
       "</div>"
      ],
      "text/plain": [
       "            Algorithms    Scores  Cross_Val  Accuracy(%)  Precision(%)  \\\n",
       "1                  KNN  0.984154   0.989533    98.415385     98.462489   \n",
       "0  logistic regression  0.983593   0.985930    98.359311     98.409370   \n",
       "2        Random Forest  0.983593   0.985930    98.359311     98.409370   \n",
       "\n",
       "   Recall(%)  F1-score(%)  \n",
       "1  98.415385    98.414118  \n",
       "0  98.359311    98.357715  \n",
       "2  98.359311    98.357715  "
      ]
     },
     "execution_count": 46,
     "metadata": {},
     "output_type": "execute_result"
    }
   ],
   "source": [
    "compare = pd.DataFrame({'Algorithms' : models , 'Scores' : Scores, 'Cross_Val' : CV_Scores, 'Accuracy(%)':Accuracy, 'Precision(%)':Precision, 'Recall(%)':Recall, 'F1-score(%)':F1_score})\n",
    "compare.sort_values(by='Scores' ,ascending=False)"
   ]
  },
  {
   "cell_type": "markdown",
   "metadata": {},
   "source": [
    "#### Analyze model performance metrics (AUC, ROC, Confusion Matrix)"
   ]
  },
  {
   "cell_type": "markdown",
   "metadata": {},
   "source": [
    "After building the model, I will test my model by looking at the Confusion Matrix, AUC, and ROC scores"
   ]
  },
  {
   "cell_type": "code",
   "execution_count": 48,
   "metadata": {},
   "outputs": [
    {
     "name": "stdout",
     "output_type": "stream",
     "text": [
      "True Positives:1127\n",
      "False Positives:0\n",
      "True Negatives:1271\n",
      "False Negatives:40\n"
     ]
    },
    {
     "data": {
      "text/plain": [
       "<matplotlib.axes._subplots.AxesSubplot at 0x22d55ebc760>"
      ]
     },
     "execution_count": 48,
     "metadata": {},
     "output_type": "execute_result"
    },
    {
     "data": {
      "image/png": "[encoded data removed]",
      "text/plain": [
       "<Figure size 432x288 with 2 Axes>"
      ]
     },
     "metadata": {
      "needs_background": "light"
     },
     "output_type": "display_data"
    }
   ],
   "source": [
    "from sklearn.metrics import confusion_matrix\n",
    "\n",
    "# If the mushroom actually is poisonous and the prediction confirms it, it's called TP\n",
    "# If the mushroom actually is edible and the prediction confirms it is edible, it is called TN\n",
    "# If the mushroom actually is edible but the prediction confirms it is poisonous, it is called FP\n",
    "# If the mushroom actually is poisonous but the prediction confirms it is edible, it's called FN\n",
    "\n",
    "tn, fp, fn, tp = confusion_matrix(y_test, y_pred).ravel()\n",
    "print('True Positives:' + str(tp))\n",
    "print('False Positives:' + str(fp))\n",
    "print('True Negatives:' + str(tn))\n",
    "print('False Negatives:'+ str(fn))\n",
    "matrix = [[tp, tn], [fp, fn]]\n",
    "df_confusion_matrix = pd.DataFrame(matrix, index=[\"True\", \"False\"], columns=[\"Positive\", \"Negative\"])\n",
    "sns.heatmap(df_confusion_matrix,annot=True,cmap=\"YlGnBu\")"
   ]
  },
  {
   "cell_type": "markdown",
   "metadata": {},
   "source": [
    "#### Optimize the Confusion Matrix"
   ]
  },
  {
   "cell_type": "code",
   "execution_count": 52,
   "metadata": {},
   "outputs": [],
   "source": [
    "# accuracy statistics\n",
    "from sklearn import metrics\n",
    "from sklearn.metrics import classification_report"
   ]
  },
  {
   "cell_type": "code",
   "execution_count": 54,
   "metadata": {},
   "outputs": [
    {
     "name": "stdout",
     "output_type": "stream",
     "text": [
      "Accuracy Score: 0.9835931091058244\n",
      "              precision    recall  f1-score   support\n",
      "\n",
      "           0       0.97      1.00      0.98      1271\n",
      "           1       1.00      0.97      0.98      1167\n",
      "\n",
      "    accuracy                           0.98      2438\n",
      "   macro avg       0.98      0.98      0.98      2438\n",
      "weighted avg       0.98      0.98      0.98      2438\n",
      "\n"
     ]
    }
   ],
   "source": [
    "print('Accuracy Score:', metrics.accuracy_score(y_test, y_pred))\n",
    "# create classification report\n",
    "class_report=classification_report(y_test, y_pred)\n",
    "print(class_report)"
   ]
  },
  {
   "cell_type": "markdown",
   "metadata": {},
   "source": [
    "The feature of 'ordor' is the best indicator since the precision, recall and f1-score are all higher more than 95%, which means the prediction and actual result are almost matched."
   ]
  },
  {
   "cell_type": "code",
   "execution_count": 57,
   "metadata": {},
   "outputs": [],
   "source": [
    "from sklearn.metrics import roc_auc_score\n",
    "# generate a no skill prediction (majority class)\n",
    "ns_probs = [0 for _ in range(len(y_test))]\n",
    "# predict probabilities\n",
    "lr_probs = knn_grid.predict_proba(X_test)[:,1]\n",
    "# calculate scores\n",
    "ns_auc = roc_auc_score(y_test, ns_probs)\n",
    "lr_auc = roc_auc_score(y_test, lr_probs)"
   ]
  },
  {
   "cell_type": "code",
   "execution_count": 58,
   "metadata": {},
   "outputs": [
    {
     "name": "stdout",
     "output_type": "stream",
     "text": [
      "Logistic: ROC AUC=0.986\n"
     ]
    }
   ],
   "source": [
    "# calculate scores\n",
    "lr_auc = roc_auc_score(y_test, lr_probs)\n",
    "print('Logistic: ROC AUC=%.3f' % (lr_auc))"
   ]
  },
  {
   "cell_type": "markdown",
   "metadata": {},
   "source": [
    "The ROC and AUC score are pretty high, ehich also demonstrated they are the best indicators."
   ]
  },
  {
   "cell_type": "code",
   "execution_count": 59,
   "metadata": {},
   "outputs": [],
   "source": [
    "from sklearn.metrics import roc_curve\n",
    "# calculate roc curves\n",
    "ns_fpr, ns_tpr, _ = roc_curve(y_test, ns_probs)\n",
    "lr_fpr, lr_tpr, _ = roc_curve(y_test, lr_probs)"
   ]
  },
  {
   "cell_type": "code",
   "execution_count": 60,
   "metadata": {},
   "outputs": [
    {
     "data": {
      "image/png": "[encoded data removed]",
      "text/plain": [
       "<Figure size 432x288 with 1 Axes>"
      ]
     },
     "metadata": {
      "needs_background": "light"
     },
     "output_type": "display_data"
    }
   ],
   "source": [
    "from matplotlib import pyplot\n",
    "# plot the roc curve for the model\n",
    "pyplot.plot(ns_fpr, ns_tpr, linestyle='--', label='No Skill')\n",
    "pyplot.plot(lr_fpr, lr_tpr, marker='.', label='Logistic')\n",
    "# axis labels\n",
    "pyplot.xlabel('False Positive Rate')\n",
    "pyplot.ylabel('True Positive Rate')\n",
    "# show the legend\n",
    "pyplot.legend()\n",
    "# show the plot\n",
    "pyplot.show()"
   ]
  },
  {
   "cell_type": "markdown",
   "metadata": {},
   "source": [
    "The ploting area is almost in 90 degree, which is close to 100% match to the prediction."
   ]
  },
  {
   "cell_type": "markdown",
   "metadata": {},
   "source": [
    "# In conclusion"
   ]
  },
  {
   "cell_type": "markdown",
   "metadata": {},
   "source": [
    "The \"ordor\" feature is the best feature for making further predictions about whether mushrooms are poisonous and for building models from the mushroom data set.\n",
    "As the confusion matrix can directly display the prediction results, and the Logistic, KNN, Random forest models can be tested by precision score, F1-score, AUC and RUC scores, the KNN model is the best prediction model. \n",
    "In addition, using the Sklearn library to create dummy datasets can make the training process easier and more accurate."
   ]
  },
  {
   "cell_type": "code",
   "execution_count": null,
   "metadata": {},
   "outputs": [],
   "source": []
  }
 ],
 "metadata": {
  "kernelspec": {
   "display_name": "Python 3",
   "language": "python",
   "name": "python3"
  },
  "language_info": {
   "codemirror_mode": {
    "name": "ipython",
    "version": 3
   },
   "file_extension": ".py",
   "mimetype": "text/x-python",
   "name": "python",
   "nbconvert_exporter": "python",
   "pygments_lexer": "ipython3",
   "version": "3.8.3"
  }
 },
 "nbformat": 4,
 "nbformat_minor": 4
}
