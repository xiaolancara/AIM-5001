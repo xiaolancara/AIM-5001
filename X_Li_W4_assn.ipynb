{
 "cells": [
  {
   "cell_type": "code",
   "execution_count": 61,
   "metadata": {},
   "outputs": [
    {
     "data": {
      "text/plain": [
       "array([2, 4])"
      ]
     },
     "execution_count": 61,
     "metadata": {},
     "output_type": "execute_result"
    }
   ],
   "source": [
    "import numpy as np\n",
    "a = np.array([1, 2, 3, 2, 3, 4, 3, 4, 5, 6])\n",
    "b = np.array([7, 2, 10, 2, 7, 4, 9, 4, 9, 8])\n",
    "\n",
    "# np.intersect1d means return the unique values that are in both of input arrays\n",
    "arr_distinct = np.intersect1d(a, b)\n",
    "arr_distinct"
   ]
  },
  {
   "cell_type": "code",
   "execution_count": 54,
   "metadata": {},
   "outputs": [
    {
     "data": {
      "text/plain": [
       "array([[ 1,  6, 11],\n",
       "       [ 2,  7, 12],\n",
       "       [ 3,  8, 13],\n",
       "       [ 4,  9, 14],\n",
       "       [ 5, 10, 15]])"
      ]
     },
     "execution_count": 54,
     "metadata": {},
     "output_type": "execute_result"
    }
   ],
   "source": [
    "#define arange form 1 to 16, len is 15. set 3 rows 5 columns then transpose to 5 rows 3 columns\n",
    "np.arange(1,16).reshape(3,5).T"
   ]
  },
  {
   "cell_type": "code",
   "execution_count": 55,
   "metadata": {},
   "outputs": [
    {
     "data": {
      "text/plain": [
       "array([14,  6, 11, 19])"
      ]
     },
     "execution_count": 55,
     "metadata": {},
     "output_type": "execute_result"
    }
   ],
   "source": [
    "a = np.array([12, 5, 7, 15, 3, 1, 8])\n",
    "b = np.array([14, 6, 3, 11, 19, 12, 5])\n",
    "\n",
    "# find the duplicate unique values from both arrays first\n",
    "c = np.intersect1d(a, b) #print(c) array([ 3  5 12])\n",
    "# find the values are in b array but not in duplicate array to filter to get the result\n",
    "np.asarray([x for x in b if not x in c ])"
   ]
  },
  {
   "cell_type": "code",
   "execution_count": 63,
   "metadata": {},
   "outputs": [
    {
     "name": "stdout",
     "output_type": "stream",
     "text": [
      "1523.0\n"
     ]
    },
    {
     "data": {
      "text/plain": [
       "array([[ 1., 50.],\n",
       "       [ 2., 50.],\n",
       "       [ 3., 49.],\n",
       "       [ 4., 49.],\n",
       "       [ 5., 50.],\n",
       "       [ 6.,  0.],\n",
       "       [ 7., 49.],\n",
       "       [ 8., 48.],\n",
       "       [ 9., 46.],\n",
       "       [10., 50.],\n",
       "       [11., 48.],\n",
       "       [12., 50.],\n",
       "       [13., 48.],\n",
       "       [14., 49.],\n",
       "       [15., 49.],\n",
       "       [16., 49.],\n",
       "       [17., 50.],\n",
       "       [18., 48.],\n",
       "       [19., 49.],\n",
       "       [20., 50.],\n",
       "       [21.,  0.],\n",
       "       [22., 50.],\n",
       "       [23.,  0.],\n",
       "       [24., 48.],\n",
       "       [25., 49.],\n",
       "       [26., 50.],\n",
       "       [27., 49.],\n",
       "       [28., 50.],\n",
       "       [29., 49.],\n",
       "       [30., 49.],\n",
       "       [31., 52.],\n",
       "       [32., 48.],\n",
       "       [33., 48.],\n",
       "       [34.,  0.],\n",
       "       [35., 50.]])"
      ]
     },
     "execution_count": 63,
     "metadata": {},
     "output_type": "execute_result"
    }
   ],
   "source": [
    "# from google map, the total distance from NYC to Key West,FL by riding bike is 1519 miles\n",
    "# create the array days dimention first which includes 35 days recording\n",
    "arr_days = np.arange(1,36).reshape(35,1)\n",
    "# create array miles which includes 31 days miles,insert random values\n",
    "# normal function means the mean is 1519/31, variance is 1, size of values is 31\n",
    "arr_miles = np.random.normal(1519/31,1,size=31)\n",
    "# append 4 days record which have 0 miles due to the special situation\n",
    "arr_miles = np.append(arr_miles,[0,0,0,0])\n",
    "# permute the array miles, reshape it to be same as array days,round function means the result without demical\n",
    "arr_miles = np.around(np.random.permutation(arr_miles).reshape(35,1))\n",
    "# check if the total miles is enough to arrive\n",
    "print(np.sum(arr_miles))\n",
    "# hstack function means combine two arrays to be the completed record\n",
    "np.hstack((arr_days,arr_miles))\n"
   ]
  },
  {
   "cell_type": "code",
   "execution_count": 57,
   "metadata": {},
   "outputs": [
    {
     "data": {
      "text/plain": [
       "1512.0"
      ]
     },
     "execution_count": 57,
     "metadata": {},
     "output_type": "execute_result"
    }
   ],
   "source": [
    "import pandas\n",
    "\n",
    "# supress scientific notation\n",
    "np.set_printoptions(suppress = True)\n",
    "\n",
    "# read the data file from GitHub and convert to a NumPy ndarray object\n",
    "nyc_water = pandas.read_csv('https://raw.githubusercontent.com/jtopor/DAV-5400/master/Week4/Water_Consumption_In_The_New_York_City.csv').values\n",
    "type(nyc_water) #print(nyc_water)\n",
    "# find the max value of data, nyc_water[:,2] means find the index = 2 column \n",
    "max_NYC = np.max(nyc_water[:,2])\n",
    "max_NYC"
   ]
  },
  {
   "cell_type": "code",
   "execution_count": 58,
   "metadata": {},
   "outputs": [
    {
     "data": {
      "text/plain": [
       "(39,)"
      ]
     },
     "execution_count": 58,
     "metadata": {},
     "output_type": "execute_result"
    }
   ],
   "source": [
    "# find the number of rows of the year, index = 0 is the year column\n",
    "np.shape(nyc_water[:,0])"
   ]
  },
  {
   "cell_type": "code",
   "execution_count": 59,
   "metadata": {},
   "outputs": [
    {
     "name": "stdout",
     "output_type": "stream",
     "text": [
      "160.30769230769232\n",
      "31.51894330370624\n"
     ]
    }
   ],
   "source": [
    "# find mean of index = 3 (Capita column)\n",
    "mean_perCap = np.mean(nyc_water[:,3])\n",
    "\n",
    "# find mean of std = 3 (Capita column)\n",
    "std_perCap = np.std(nyc_water[:,3])\n",
    "\n",
    "\n",
    "print(mean_perCap)\n",
    "print(std_perCap)"
   ]
  },
  {
   "cell_type": "code",
   "execution_count": 60,
   "metadata": {},
   "outputs": [
    {
     "data": {
      "text/plain": [
       "array([-30461. ,  17602. ,  19864. ,  72119. ,  53290. ,  39540. ,\n",
       "        45192. ,  23230. ,  11243. ,  -9544. ,  -8525. ,  38851. ,\n",
       "        54443. ,  77222. ,  64292. ,  62582. ,  64772. ,  75631. ,\n",
       "        84816. ,  89401. ,  60618. ,  16685.5,  16685.5,  16685.5,\n",
       "        16685.5,  16685.5,  16685.5,  16685.5,  16685.5,  16685.5,\n",
       "        16685.5, 108965. ,  77081. ,  61281. ,  49530. ,  44512. ,\n",
       "        21171. ,  85025. ])"
      ]
     },
     "execution_count": 60,
     "metadata": {},
     "output_type": "execute_result"
    }
   ],
   "source": [
    "# diff data to array pop_diff\n",
    "pop_diff = np.diff(nyc_water,axis = 0)[:,1]\n",
    "pop_diff"
   ]
  },
  {
   "cell_type": "code",
   "execution_count": null,
   "metadata": {},
   "outputs": [],
   "source": []
  }
 ],
 "metadata": {
  "kernelspec": {
   "display_name": "Python 3",
   "language": "python",
   "name": "python3"
  },
  "language_info": {
   "codemirror_mode": {
    "name": "ipython",
    "version": 3
   },
   "file_extension": ".py",
   "mimetype": "text/x-python",
   "name": "python",
   "nbconvert_exporter": "python",
   "pygments_lexer": "ipython3",
   "version": "3.8.3"
  }
 },
 "nbformat": 4,
 "nbformat_minor": 4
}
