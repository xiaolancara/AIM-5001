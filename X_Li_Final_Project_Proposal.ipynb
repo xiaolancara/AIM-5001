{
 "cells": [
  {
   "cell_type": "markdown",
   "metadata": {},
   "source": [
    "# AIM 5001 Final Project Proposal "
   ]
  },
  {
   "cell_type": "markdown",
   "metadata": {},
   "source": [
    "### Group members： Alejandra Zapata, Jinming Chen, Xiaolan Li\n",
    "\n",
    "#### Tasks distribution: \n",
    "Data collection: Xiaolan Li, Alejandra Zapata <br>\n",
    "Data analytics workflow: Alejandra Zapata, Jinming Chen <br>\n",
    "EDA (statistical analysis and graphics): Alejandra Zapata, Jinming Chen, Xiaolan Li <br>\n",
    "Data grouping or aggregation:  Alejandra Zapata, Jinming Chen, Xiaolan Li <br>\n",
    "Conclusion: Alejandra Zapata, Jinming Chen <br>\n",
    "Python feature:  Alejandra Zapata, Jinming Chen, Xiaolan Li <br>\n",
    "Presentation: Alejandra Zapata, Jinming Chen, Xiaolan Li<br>"
   ]
  },
  {
   "cell_type": "markdown",
   "metadata": {},
   "source": [
    "## Introduction\n",
    "\n",
    "The World Happiness Report ranks cities around the world by their subjective well-being. According to the World Happiness Report official website ”“...happiness provides a better indicator of human welfare than do income, poverty, education, health and good government measured separately.” On our research, we plan to explore further how the context plays a role into this score and by looking at the second dataset of Suicide Rates per Country dig deeper on how the social environment of cities could be a factor in “happiness” and suicide rates. <br>\n",
    "\n",
    "Both datasets analyze the year of 2016 which has significance to different countries. For example, it was an election year in the US, North Korea increased their nuclear weapons testing, Brazil impeached their president and held the Olympics, Britain left the European Unions, just to mention some of the most well-known issues of the year. As we perform Exploratory Data Analysis and try to answer our questions we will look deeper into the environment of the most outstanding countries of our analysis.<br>\n",
    "\n",
    "Through our research questions, we plan to analyze and draw correlations to determine what may be some factors. The selected relationships are demographics, economy and social environment. The first question addresses gender and happiness. We know in recent years there have been many movements that advocate for equal rights amongst genders. This question will show us how demographics may be related to happiness or suicide.<br>\n",
    "\n",
    "On the second question we explore the relationship of a country's development status and GDP to the subjective well being of its residents. We plan to explore how much the economic factor affects the inhabitants of the country.<br>\n",
    "\n",
    "Lastly, to understand the social factor we will look at the most natural and closer relationship to each human which is family. Throught this research we will understand the relationship that it has to suicide rates accross the globe.<br>\n",
    "\n",
    "We hope to inform the reader on the environments of happiness and on well being as an indicator of quality of human development. The official website of ‘World Happiness Report’ has discussed how in the past their research has been a reliable source for local governments to change policies and we hope our research analysis informs the reader on different practices that lead to happiness across the world as well as how it may impact them individually. <br>\n"
   ]
  },
  {
   "cell_type": "markdown",
   "metadata": {},
   "source": [
    "## Research Questions\n",
    "\n",
    "#### 1. What attributes could be a factor that  influence the happiness score? \n",
    "\n",
    "In our daily life, happiness leads to a wide range of benefits for our performance, health, relationships, and more. Unfortunately, not everyone had a high happiness score in 2016, as a result, many people suicided. There are many factors that influence happiness.  By analyzing the factors, researchers and doctors could use our results to make more people have higher happiness scores. \n",
    "\n",
    " \n",
    "#### 2. Based on GDP per capita, does a developing country have a higher suicide rate or a developed country has a higher suicide rate? \n",
    "\n",
    "A country has higher GDP per Capita usually means its citizens are wealthier. However, social stress might be higher in a developed country compared to a developing country, which could hurt people’s happiness and causes some serious issues, such as suicide. If we can find that a developed country has a higher suicide rate, we can analyze how to improve people’s happiness in these countries and decrease their suicide rates. \n",
    "\n",
    "\n",
    "#### 3. Can family(social support) decreases the suicide rate? \n",
    "\n",
    "Family is one of the most important elements of our life. For many people, the family is social support when we face difficulties. Great social support might help people to give up killing themselves. Our result could help people understand how powerful social support and family is, and great family relationships could save their member's lives. \n"
   ]
  },
  {
   "cell_type": "markdown",
   "metadata": {},
   "source": [
    "## Data to be Used\n",
    "\n",
    "For this project we will be utilizing two datasets.<br><br>\n",
    "The first dataset is on the World Happiness Report in 2016 to answer research questions based on a survey of the state of global happiness. The data looks at ‘Happiness Score’ and other attributes of 157 countries. The dataset and description can be found [here:](https://www.kaggle.com/unsdsn/world-happiness?select=2016.csv) This data will need to be loaded as a csv file via downloading directly from kaggle.<br>\n",
    "#### The first dataset attribute information\n",
    "- Country : Name of the country.(nominal)\n",
    "- Region : Region the country belongs to.(nominal)\n",
    "- Happiness Rank : Rank of the country based on the Happiness Score.(numeric)\n",
    "- Happiness Score : A metric measured in 2016 by asking the sampled people the question: \"How would you rate your happiness on a scale of 0 to 10 where 10 is the happiest.\"(numeric)\n",
    "- Lower Confidence Interval : (numeric)\n",
    "- Upper Confidence Interval : (numeric)\n",
    "- Economy : real GDP per capita(numeric)\n",
    "- Family : social support(numeric)\n",
    "- Health : healthy life expectancy(numeric)\n",
    "- Freedom : freedom to make life choices(numeric)\n",
    "- Trust : perceptions of corruption(numeric)\n",
    "- Generosity : perceptions of generosity(numeric)\n",
    "- Dystopia : each country is compared against a hypothetical nation that represents the lowest national averages for each key variable and is, along with residual error, used as a regression benchmark(numeric)\n",
    "---\n",
    "The second dataset is on the Global Crude Suicide Rates in 2016 to answer research questions based on WHO suicide statstic. The data looks at Country, sex, different age group of suicide. The dataset and description can be found [here:](https://www.kaggle.com/twinkle0705/mental-health-and-suicide-rates?select=Crude+suicide+rates.csv) This data will need to be collected from this source via kaggle web API.<br>\n",
    "#### The second dataset attribute information\n",
    "- Country : Name of the country.(nominal)\n",
    "- Sex : Sex of suicide.(nominal)\n",
    "- 80_above : Suicide rates per 100000 population in 80 above age range(numeric)\n",
    "- 70to79 : Suicide rates per 100000 population in 70to79 age range(numeric)\n",
    "- 60to69 : Suicide rates per 100000 population in 60to69 age range(numeric)\n",
    "- 50to59 : Suicide rates per 100000 population in 50to59 age range(numeric)\n",
    "- 40to49 : Suicide rates per 100000 population in 40to49 age range(numeric)\n",
    "- 30to39 : Suicide rates per 100000 population in 30to39 age range(numeric)\n",
    "- 20to29 : Suicide rates per 100000 population in 20to29 age range(numeric)\n",
    "- 10to19 : Suicide rates per 100000 population in 10to19 age range(numeric)\n"
   ]
  },
  {
   "cell_type": "markdown",
   "metadata": {},
   "source": [
    "## Approach\n",
    "\n",
    "We will use the PostgreSQL database to store and manage the data.<br>\n",
    "Types of statistical analysis we plan to use:<br>\n",
    "- Descriptive<br>\n",
    "By doing the EDA, data cleaning, we will have a certain understanding of the data, carry out descriptive analysis, and select the features that help to explore the research question.\n",
    "- Test of statistical inference<br>\n",
    "By selecting the useful attributes, we will use multiple analytical tools related to the data we choose to infer the results and answer our research questions.\n",
    "- Correlation/regression<br>\n",
    "For two datasets we choose, we will finally use analytical tools to find the potential correlation and regression between these two datasets.\n",
    " \n",
    "##### Graphics\n",
    "By using a line plot to illustrate the change of the attributes for each dataset. <br>\n",
    "By using a histogram and box plot to show the minimum/maximum and median of each attribute. <br>\n",
    "By using scattor plot to find the correlation between gender and happiness score, the correlation between GDP per capita and suicide rate, and the correlation between social suppport and suicide rate. <br>\n",
    "\n",
    "#### Takeaway\n",
    " \n",
    "Although there may be more factors of human’s well being and happiness than we can count, we hope this report provides the reader with and overview of the importance of social ties and happiness, on how economic inequality is incredibly present across the globe and how it affects human development and how a person’s demographic may be a factor on their life’s happiness. According to ‘Our World in Data’, suicide rates have decreased globally in the last 10 years but have dramatically increased in countries such as the US, Denmark, Sri Lanka, and Hungary amongst others. We hope to provide the reader with an understanding of the importance to address the correlation between happiness and suicide rates, and the demographic, social and eocnomic context.\n"
   ]
  },
  {
   "cell_type": "markdown",
   "metadata": {},
   "source": [
    "##  Reference\n",
    "\n",
    "1. https://worldhappiness.report/ed/2016/\n",
    "2. https://ourworldindata.org/suicide"
   ]
  }
 ],
 "metadata": {
  "kernelspec": {
   "display_name": "Python 3",
   "language": "python",
   "name": "python3"
  },
  "language_info": {
   "codemirror_mode": {
    "name": "ipython",
    "version": 3
   },
   "file_extension": ".py",
   "mimetype": "text/x-python",
   "name": "python",
   "nbconvert_exporter": "python",
   "pygments_lexer": "ipython3",
   "version": "3.8.3"
  }
 },
 "nbformat": 4,
 "nbformat_minor": 2
}
