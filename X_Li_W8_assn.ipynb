{
 "cells": [
  {
   "cell_type": "code",
   "execution_count": 2,
   "metadata": {},
   "outputs": [],
   "source": [
    "# import regular expression library re\n",
    "import re"
   ]
  },
  {
   "cell_type": "code",
   "execution_count": 3,
   "metadata": {},
   "outputs": [
    {
     "data": {
      "text/plain": [
       "['Moe Szyslak',\n",
       " 'Burns, C. Montgomery',\n",
       " 'Rev. Timothy Lovejoy',\n",
       " 'Ned Flanders',\n",
       " 'Simpson, Homer',\n",
       " 'Dr. Julius Hibbert']"
      ]
     },
     "execution_count": 3,
     "metadata": {},
     "output_type": "execute_result"
    }
   ],
   "source": [
    "test_str1 = \"555-1239Moe Szyslak(636) 555-0113Burns, C. Montgomery555 -6542Rev. Timothy Lovejoy555 8904Ned Flanders636-555-3226Simpson, Homer5553642Dr. Julius Hibbert\"\n",
    "#pattern: use two brakets to create the  format only from (a-z or A-Z or , or . or space) unlimited times'+' \n",
    "#then end with a-z without other character(i.e.: other space, number..)\n",
    "#use \\ transform the spacial marks to characters\n",
    "# use re.findall to find all characters which match the pattern\n",
    "res_str1 = re.findall(r'[a-zA-Z,\\.\\s]+[a-z]', test_str1)\n",
    "res_str1"
   ]
  },
  {
   "cell_type": "code",
   "execution_count": 4,
   "metadata": {},
   "outputs": [
    {
     "name": "stdout",
     "output_type": "stream",
     "text": [
      "['Moe Szyslak', 'Montgomery C. Burns', 'Rev. Timothy Lovejoy', 'Ned Flanders', 'Homer Simpson', 'Dr. Julius Hibbert']\n"
     ]
    }
   ],
   "source": [
    "#2.a  rearrange the vector\n",
    "#copy the vector into test_str2\n",
    "test_str2a = res_str1\n",
    "res_vector2 = []\n",
    "for a in test_str2a:  \n",
    "    #check if the name form is last name then first name\n",
    "    #pattern: includes comma ,\n",
    "    #use re.search to search if the pattern exist\n",
    "    if re.search(r'[,]+', a):          \n",
    "        l_f_name = re.search(r'[,]+', a)\n",
    "        #check the mark position\n",
    "        #print(l_f_name.start())\n",
    "        #pattern: includes point . \n",
    "        #use \\ transform the spacial marks to characters\n",
    "        if re.search(r'[\\.]+', a):           \n",
    "            #which is include middle name\n",
    "            #add 5 from the start position to reach the fist letter of first name and choose first name\n",
    "            #add 1 from the space to reach before mark position and choose last name and spaces\n",
    "            #choose last name before mark position\n",
    "            a = a[l_f_name.start()+5:] + a[l_f_name.start()+1:l_f_name.start()+5]+ a[:l_f_name.start()]\n",
    "        else: \n",
    "            #which is not include middle name\n",
    "            #add 2 from the start position to reach the fist letter of first name and choose first name  \n",
    "            #choose last name before mark position\n",
    "            a = a[l_f_name.start()+2:] + ' '+ a[:l_f_name.start()] \n",
    "    #append all new str to the vector2\n",
    "    res_vector2.append(a)\n",
    "print(res_vector2)    "
   ]
  },
  {
   "cell_type": "code",
   "execution_count": 5,
   "metadata": {},
   "outputs": [
    {
     "name": "stdout",
     "output_type": "stream",
     "text": [
      "Moe Szyslak\n",
      "no\n",
      "Montgomery C. Burns\n",
      "no\n",
      "Rev. Timothy Lovejoy\n",
      "Yes\n",
      "Ned Flanders\n",
      "no\n",
      "Homer Simpson\n",
      "no\n",
      "Dr. Julius Hibbert\n",
      "Yes\n"
     ]
    }
   ],
   "source": [
    "#2.b  indicating whether a character has a title\n",
    "#input the result from vector2 as test_str2b\n",
    "test_str2b = res_vector2\n",
    "for b in test_str2b:\n",
    "    print(b)\n",
    "    #pattern: use two brakets to create the  format only from a-z or A-Z unlimited times'+' \n",
    "    #then end with a point .  without other character(i.e.: space) ;\n",
    "    #use \\ transform the spacial marks to characters\n",
    "    #use re.match to match the pattern from the begining letter\n",
    "    if re.match(r'[a-zA-Z]+[\\.]',b):        \n",
    "        print('Yes')\n",
    "    else:\n",
    "        print('no')"
   ]
  },
  {
   "cell_type": "code",
   "execution_count": 6,
   "metadata": {},
   "outputs": [
    {
     "name": "stdout",
     "output_type": "stream",
     "text": [
      "Moe Szyslak\n",
      "no\n",
      "Montgomery C. Burns\n",
      "Yes\n",
      "Rev. Timothy Lovejoy\n",
      "no\n",
      "Ned Flanders\n",
      "no\n",
      "Homer Simpson\n",
      "no\n",
      "Dr. Julius Hibbert\n",
      "no\n"
     ]
    }
   ],
   "source": [
    "#2.c  indicating whether a character has a middle/second name\n",
    "#input the result from vector2 as test_str2c\n",
    "test_str2c = res_vector2\n",
    "for c in test_str2c:\n",
    "    print(c)\n",
    "    #pattern: use three brakets to create the  format only from space unlimited times \n",
    "    #then follow  a-z or A-Z unlimited times then end with a point .  ; \n",
    "    #use \\ transform the spacial marks to characters\n",
    "    #use re.search to search if the pattern exist\n",
    "    if re.search(r'[\\s]+[a-zA-Z]+[\\.]',c):        \n",
    "        print('Yes')\n",
    "    else:\n",
    "        print('no')"
   ]
  },
  {
   "cell_type": "code",
   "execution_count": 7,
   "metadata": {},
   "outputs": [
    {
     "data": {
      "text/plain": [
       "'<title>'"
      ]
     },
     "execution_count": 7,
     "metadata": {},
     "output_type": "execute_result"
    }
   ],
   "source": [
    "#3. extract the first HTML tag\n",
    "#input the string\n",
    "test_str3 = '<title>+++BREAKING NEWS+++<title>'\n",
    "# the incorrect pattern <.+> means all charaters can be selected since point . means any character\n",
    "# + means unlimited times, so the result will select all the string '<title>+++BREAKING NEWS+++<title>'\n",
    "\n",
    "#the first pattern solution\n",
    "# select characters without A-Z and space and +  unlimited times'+' ; the spacial mark ^ means without\n",
    "#pattern3 = r'[^A-Z\\s+]+'  \n",
    "\n",
    "#the second pattern solution \n",
    "# select characters from < then a-z unlimited times'+' then > without any other characters \n",
    "pattern3 = r'[<][a-z]+[>]' \n",
    "\n",
    "#use re.match to match the pattern from the begining letter, group()to show the extract string\n",
    "re.match(pattern3, test_str3).group()"
   ]
  },
  {
   "cell_type": "code",
   "execution_count": 8,
   "metadata": {},
   "outputs": [
    {
     "data": {
      "text/plain": [
       "['(5-3)^2=5^2-2*5*3+3^2']"
      ]
     },
     "execution_count": 8,
     "metadata": {},
     "output_type": "execute_result"
    }
   ],
   "source": [
    "#4. extract the formula\n",
    "#input the string\n",
    "test_str4 = '\"(5-3)^2=5^2-2*5*3+3^2\" conforms to the binomial theorem'\n",
    "#the incorrect pattern'[^0-9=+*()]+'  means select characters without 0-9 and = and + and * and () unlimited times'+' ; the spacial mark ^ means without\n",
    "#this incorrect pattern will get result : ['\"', '-', '^', '^', '-', '^', '\" conforms to the binomial theorem']\n",
    "\n",
    "#the first pattern solution \n",
    "# select characters without a-z and A-Z and space unlimited times'+' ; the spacial mark ^ means without\n",
    "#pattern4 = r'[^a-z\\s\"]+'\n",
    "\n",
    "#the second pattern solution\n",
    "# select characters includes - or = or () or 0-9 or ^ or + or * unlimited times'+'; \n",
    "# use \\ transform the spacial marks to characters\n",
    "pattern4 = r'[-=()0-9\\^\\+\\*]+'\n",
    "# use re.findall to find all characters which match the pattern\n",
    "re.findall(pattern4, test_str4)"
   ]
  },
  {
   "cell_type": "code",
   "execution_count": null,
   "metadata": {},
   "outputs": [],
   "source": []
  }
 ],
 "metadata": {
  "kernelspec": {
   "display_name": "Python 3",
   "language": "python",
   "name": "python3"
  },
  "language_info": {
   "codemirror_mode": {
    "name": "ipython",
    "version": 3
   },
   "file_extension": ".py",
   "mimetype": "text/x-python",
   "name": "python",
   "nbconvert_exporter": "python",
   "pygments_lexer": "ipython3",
   "version": "3.8.3"
  }
 },
 "nbformat": 4,
 "nbformat_minor": 4
}
