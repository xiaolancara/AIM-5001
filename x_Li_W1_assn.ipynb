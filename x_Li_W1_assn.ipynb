{
 "cells": [
  {
   "cell_type": "markdown",
   "metadata": {},
   "source": [
    "# Dataset Assignment\n",
    "*Xiaolan's first dataset*\n",
    "[Github](https://github.com/xiaolancara/AIM-5001/blob/master/dataset.csv)\n",
    "*was download from*\n",
    "[Website](https://archive.ics.uci.edu/ml/datasets/Parking+Birmingham#)\n",
    "\n",
    "## Reason for interest\n",
    "1. Feasibility\n",
    "    -  Parking is something that everyone does every day \n",
    "2. Enough data for research\n",
    "    1. Multivariate time series data set\n",
    "    2. Enough data make error low\n",
    "    \n",
    "### Table of sample dataset\n",
    "variable name|data\n",
    ":---|:-----:\n",
    "SystemCodeNumber|BHMBCCMKT01\n",
    "Capacity|577\n",
    "Occupancy|61\n",
    "LastUpdated|2016/12/18 11:03:25\n",
    "\n",
    "## Question & Analysis\n",
    "- Which data should we collect or dismiss?\n",
    "- We also need some random dataset for testing without training\n",
    "\n",
    "![https://www.kindpng.com/picc/m/218-2183666_clip-art-database-logo-database-cloud-hd-png.png](https://www.kindpng.com/picc/m/218-2183666_clip-art-database-logo-database-cloud-hd-png.png)"
   ]
  },
  {
   "cell_type": "code",
   "execution_count": null,
   "metadata": {},
   "outputs": [],
   "source": []
  }
 ],
 "metadata": {
  "kernelspec": {
   "display_name": "Python 3",
   "language": "python",
   "name": "python3"
  },
  "language_info": {
   "codemirror_mode": {
    "name": "ipython",
    "version": 3
   },
   "file_extension": ".py",
   "mimetype": "text/x-python",
   "name": "python",
   "nbconvert_exporter": "python",
   "pygments_lexer": "ipython3",
   "version": "3.8.3"
  }
 },
 "nbformat": 4,
 "nbformat_minor": 4
}
