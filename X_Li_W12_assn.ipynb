{
 "cells": [
  {
   "cell_type": "markdown",
   "metadata": {},
   "source": [
    "# Introduction\n",
    "#### keys: HTML, XML, JSON, Web Api"
   ]
  },
  {
   "cell_type": "markdown",
   "metadata": {},
   "source": [
    "# Working with HTML, XML, and JSON"
   ]
  },
  {
   "cell_type": "markdown",
   "metadata": {},
   "source": [
    "First, I will create the data file with 5 attributes about book in \"pet\" subject \"by hand\" in html, xml, json format. \n",
    "The sourse are listed as below.\n",
    "[https://raw.githubusercontent.com/xiaolancara/AIM-5001/master/data/books.html](https://raw.githubusercontent.com/xiaolancara/AIM-5001/master/data/books.html)\n",
    "\n",
    "[https://raw.githubusercontent.com/xiaolancara/AIM-5001/master/data/books.xml](https://raw.githubusercontent.com/xiaolancara/AIM-5001/master/data/books.xml)\n",
    "\n",
    "[https://raw.githubusercontent.com/xiaolancara/AIM-5001/master/data/books.json](https://raw.githubusercontent.com/xiaolancara/AIM-5001/master/data/books.json)"
   ]
  },
  {
   "cell_type": "markdown",
   "metadata": {},
   "source": [
    "## HTML to dataframe"
   ]
  },
  {
   "cell_type": "code",
   "execution_count": 1,
   "metadata": {},
   "outputs": [
    {
     "data": {
      "text/plain": [
       "<Response [200]>"
      ]
     },
     "execution_count": 1,
     "metadata": {},
     "output_type": "execute_result"
    }
   ],
   "source": [
    "import requests\n",
    "page_html = requests.get(\"https://raw.githubusercontent.com/xiaolancara/AIM-5001/master/data/books.html\")\n",
    "page_html"
   ]
  },
  {
   "cell_type": "markdown",
   "metadata": {},
   "source": [
    "After running our request, we get a Response object. A status_code of 200 means that the page downloaded successfully."
   ]
  },
  {
   "cell_type": "markdown",
   "metadata": {},
   "source": [
    "We can print out the HTML content of the page using the content property:"
   ]
  },
  {
   "cell_type": "code",
   "execution_count": 2,
   "metadata": {},
   "outputs": [
    {
     "data": {
      "text/plain": [
       "b'<!DOCTYPE html>\\r\\n<html>\\r\\n<head>\\r\\n<title>BooksInfo(books.com)</title>\\r\\n</head>\\r\\n<body>\\r\\n<p>\\r\\n<table border=\"1\">\\r\\n   <tr>\\r\\n         <th>Title</th>\\r\\n         <th>author</th>\\r\\n         <th>price</th>\\r\\n         <th>rating</th>\\r\\n         <th>Rank</th>\\r\\n   </tr>\\r\\n    <tr>\\r\\n        <td>Zak George\\'s Dog Training Revolution</td>\\r\\n        <td>Zak George,\\xc2\\xa0Dina Roth Port</td>\\r\\n        <td>13.79</td>\\r\\n        <td>4.5</td>\\r\\n        <td>1448</td>\\r\\n        \\r\\n    </tr>\\r\\n    <tr>\\r\\n        <td>The Art of Raising a Puppy</td>\\r\\n        <td>Monks of New Skete</td>\\r\\n        <td>21.03</td>\\r\\n        <td>4.6</td>\\r\\n        <td>9357</td>\\r\\n    </tr>\\r\\n    <tr>\\r\\n        <td>Puppy Training for Kids</td>\\r\\n        <td>Colleen Pelar</td>\\r\\n        <td>12.14</td>\\r\\n        <td>4.5</td>\\r\\n        <td>9322</td>\\r\\n    </tr>\\r\\n</table>\\r\\n</p>\\r\\n\\r\\n\\r\\n</body>\\r\\n</html>'"
      ]
     },
     "execution_count": 2,
     "metadata": {},
     "output_type": "execute_result"
    }
   ],
   "source": [
    "page_html.content"
   ]
  },
  {
   "cell_type": "markdown",
   "metadata": {},
   "source": [
    "Parsing a page with BeautifulSoup"
   ]
  },
  {
   "cell_type": "code",
   "execution_count": 3,
   "metadata": {},
   "outputs": [],
   "source": [
    "from bs4 import BeautifulSoup\n",
    "soup = BeautifulSoup(page_html.content, 'html.parser')"
   ]
  },
  {
   "cell_type": "code",
   "execution_count": 4,
   "metadata": {},
   "outputs": [
    {
     "name": "stdout",
     "output_type": "stream",
     "text": [
      "<!DOCTYPE html>\n",
      "<html>\n",
      " <head>\n",
      "  <title>\n",
      "   BooksInfo(books.com)\n",
      "  </title>\n",
      " </head>\n",
      " <body>\n",
      "  <p>\n",
      "   <table border=\"1\">\n",
      "    <tr>\n",
      "     <th>\n",
      "      Title\n",
      "     </th>\n",
      "     <th>\n",
      "      author\n",
      "     </th>\n",
      "     <th>\n",
      "      price\n",
      "     </th>\n",
      "     <th>\n",
      "      rating\n",
      "     </th>\n",
      "     <th>\n",
      "      Rank\n",
      "     </th>\n",
      "    </tr>\n",
      "    <tr>\n",
      "     <td>\n",
      "      Zak George's Dog Training Revolution\n",
      "     </td>\n",
      "     <td>\n",
      "      Zak George,Â Dina Roth Port\n",
      "     </td>\n",
      "     <td>\n",
      "      13.79\n",
      "     </td>\n",
      "     <td>\n",
      "      4.5\n",
      "     </td>\n",
      "     <td>\n",
      "      1448\n",
      "     </td>\n",
      "    </tr>\n",
      "    <tr>\n",
      "     <td>\n",
      "      The Art of Raising a Puppy\n",
      "     </td>\n",
      "     <td>\n",
      "      Monks of New Skete\n",
      "     </td>\n",
      "     <td>\n",
      "      21.03\n",
      "     </td>\n",
      "     <td>\n",
      "      4.6\n",
      "     </td>\n",
      "     <td>\n",
      "      9357\n",
      "     </td>\n",
      "    </tr>\n",
      "    <tr>\n",
      "     <td>\n",
      "      Puppy Training for Kids\n",
      "     </td>\n",
      "     <td>\n",
      "      Colleen Pelar\n",
      "     </td>\n",
      "     <td>\n",
      "      12.14\n",
      "     </td>\n",
      "     <td>\n",
      "      4.5\n",
      "     </td>\n",
      "     <td>\n",
      "      9322\n",
      "     </td>\n",
      "    </tr>\n",
      "   </table>\n",
      "  </p>\n",
      " </body>\n",
      "</html>\n"
     ]
    }
   ],
   "source": [
    "print(soup.prettify())"
   ]
  },
  {
   "cell_type": "markdown",
   "metadata": {},
   "source": [
    "In order to get the dataframe, I'll find all instances of a tag at one use 'table' to find the table in the paragragh."
   ]
  },
  {
   "cell_type": "code",
   "execution_count": 5,
   "metadata": {},
   "outputs": [
    {
     "data": {
      "text/plain": [
       "<table border=\"1\">\n",
       "<tr>\n",
       "<th>Title</th>\n",
       "<th>author</th>\n",
       "<th>price</th>\n",
       "<th>rating</th>\n",
       "<th>Rank</th>\n",
       "</tr>\n",
       "<tr>\n",
       "<td>Zak George's Dog Training Revolution</td>\n",
       "<td>Zak George,Â Dina Roth Port</td>\n",
       "<td>13.79</td>\n",
       "<td>4.5</td>\n",
       "<td>1448</td>\n",
       "</tr>\n",
       "<tr>\n",
       "<td>The Art of Raising a Puppy</td>\n",
       "<td>Monks of New Skete</td>\n",
       "<td>21.03</td>\n",
       "<td>4.6</td>\n",
       "<td>9357</td>\n",
       "</tr>\n",
       "<tr>\n",
       "<td>Puppy Training for Kids</td>\n",
       "<td>Colleen Pelar</td>\n",
       "<td>12.14</td>\n",
       "<td>4.5</td>\n",
       "<td>9322</td>\n",
       "</tr>\n",
       "</table>"
      ]
     },
     "execution_count": 5,
     "metadata": {},
     "output_type": "execute_result"
    }
   ],
   "source": [
    "\n",
    "table_html = soup.find_all('table')[0]\n",
    "table_html"
   ]
  },
  {
   "cell_type": "markdown",
   "metadata": {},
   "source": [
    "Since there are one space(content is '\\xc2\\xa0')between two author names, I'll use replace(\"\\xc2\\xa0\", \" \") to get rid of the that UTF-8 encodings."
   ]
  },
  {
   "cell_type": "markdown",
   "metadata": {},
   "source": [
    "convert tag data to string type"
   ]
  },
  {
   "cell_type": "code",
   "execution_count": 6,
   "metadata": {},
   "outputs": [
    {
     "data": {
      "text/plain": [
       "'<table border=\"1\">\\n<tr>\\n<th>Title</th>\\n<th>author</th>\\n<th>price</th>\\n<th>rating</th>\\n<th>Rank</th>\\n</tr>\\n<tr>\\n<td>Zak George\\'s Dog Training Revolution</td>\\n<td>Zak George, Dina Roth Port</td>\\n<td>13.79</td>\\n<td>4.5</td>\\n<td>1448</td>\\n</tr>\\n<tr>\\n<td>The Art of Raising a Puppy</td>\\n<td>Monks of New Skete</td>\\n<td>21.03</td>\\n<td>4.6</td>\\n<td>9357</td>\\n</tr>\\n<tr>\\n<td>Puppy Training for Kids</td>\\n<td>Colleen Pelar</td>\\n<td>12.14</td>\\n<td>4.5</td>\\n<td>9322</td>\\n</tr>\\n</table>'"
      ]
     },
     "execution_count": 6,
     "metadata": {},
     "output_type": "execute_result"
    }
   ],
   "source": [
    "str_table_html = str(table_html).replace(\"\\xc2\\xa0\", \" \")\n",
    "str_table_html"
   ]
  },
  {
   "cell_type": "markdown",
   "metadata": {},
   "source": [
    "check the data type"
   ]
  },
  {
   "cell_type": "code",
   "execution_count": 7,
   "metadata": {},
   "outputs": [
    {
     "data": {
      "text/plain": [
       "str"
      ]
     },
     "execution_count": 7,
     "metadata": {},
     "output_type": "execute_result"
    }
   ],
   "source": [
    "type(str_table_html)"
   ]
  },
  {
   "cell_type": "code",
   "execution_count": 8,
   "metadata": {},
   "outputs": [
    {
     "data": {
      "text/html": [
       "<div>\n",
       "<style scoped>\n",
       "    .dataframe tbody tr th:only-of-type {\n",
       "        vertical-align: middle;\n",
       "    }\n",
       "\n",
       "    .dataframe tbody tr th {\n",
       "        vertical-align: top;\n",
       "    }\n",
       "\n",
       "    .dataframe thead th {\n",
       "        text-align: right;\n",
       "    }\n",
       "</style>\n",
       "<table border=\"1\" class=\"dataframe\">\n",
       "  <thead>\n",
       "    <tr style=\"text-align: right;\">\n",
       "      <th></th>\n",
       "      <th>Title</th>\n",
       "      <th>author</th>\n",
       "      <th>price</th>\n",
       "      <th>rating</th>\n",
       "      <th>Rank</th>\n",
       "    </tr>\n",
       "  </thead>\n",
       "  <tbody>\n",
       "    <tr>\n",
       "      <th>0</th>\n",
       "      <td>Zak George's Dog Training Revolution</td>\n",
       "      <td>Zak George, Dina Roth Port</td>\n",
       "      <td>13.79</td>\n",
       "      <td>4.5</td>\n",
       "      <td>1448</td>\n",
       "    </tr>\n",
       "    <tr>\n",
       "      <th>1</th>\n",
       "      <td>The Art of Raising a Puppy</td>\n",
       "      <td>Monks of New Skete</td>\n",
       "      <td>21.03</td>\n",
       "      <td>4.6</td>\n",
       "      <td>9357</td>\n",
       "    </tr>\n",
       "    <tr>\n",
       "      <th>2</th>\n",
       "      <td>Puppy Training for Kids</td>\n",
       "      <td>Colleen Pelar</td>\n",
       "      <td>12.14</td>\n",
       "      <td>4.5</td>\n",
       "      <td>9322</td>\n",
       "    </tr>\n",
       "  </tbody>\n",
       "</table>\n",
       "</div>"
      ],
      "text/plain": [
       "                                  Title                      author  price  \\\n",
       "0  Zak George's Dog Training Revolution  Zak George, Dina Roth Port  13.79   \n",
       "1            The Art of Raising a Puppy          Monks of New Skete  21.03   \n",
       "2               Puppy Training for Kids               Colleen Pelar  12.14   \n",
       "\n",
       "   rating  Rank  \n",
       "0     4.5  1448  \n",
       "1     4.6  9357  \n",
       "2     4.5  9322  "
      ]
     },
     "execution_count": 8,
     "metadata": {},
     "output_type": "execute_result"
    }
   ],
   "source": [
    "import pandas as pd\n",
    "dfs = pd.read_html(str_table_html)\n",
    "# select list[0] to convert list to dataframe\n",
    "df_html= dfs[0] \n",
    "df_html"
   ]
  },
  {
   "cell_type": "markdown",
   "metadata": {},
   "source": [
    "Finally, we transformed the html file to dataframe."
   ]
  },
  {
   "cell_type": "markdown",
   "metadata": {},
   "source": [
    "## XML to dataframe"
   ]
  },
  {
   "cell_type": "code",
   "execution_count": 9,
   "metadata": {},
   "outputs": [],
   "source": [
    "import urllib.request\n",
    "\n",
    "# load the objectify() function from the lxml library\n",
    "from lxml import objectify"
   ]
  },
  {
   "cell_type": "code",
   "execution_count": 10,
   "metadata": {},
   "outputs": [],
   "source": [
    "# header info separately from the path\n",
    "path, headers = urllib.request.urlretrieve('https://raw.githubusercontent.com/xiaolancara/AIM-5001/master/data/books.xml')\n",
    "\n",
    "# objectify() is then used to parse the web page\n",
    "parsed = objectify.parse(open(path))\n",
    "\n",
    "# now get a reference to the root node of the XML file\n",
    "root = parsed.getroot()"
   ]
  },
  {
   "cell_type": "code",
   "execution_count": 11,
   "metadata": {},
   "outputs": [
    {
     "data": {
      "text/plain": [
       "<Element catalog at 0x1c28bfe9340>"
      ]
     },
     "execution_count": 11,
     "metadata": {},
     "output_type": "execute_result"
    }
   ],
   "source": [
    "root"
   ]
  },
  {
   "cell_type": "markdown",
   "metadata": {},
   "source": [
    "From above, we know the root name is catalog. Then I'll use the parent name under the root which is book to get the data."
   ]
  },
  {
   "cell_type": "code",
   "execution_count": 12,
   "metadata": {},
   "outputs": [],
   "source": [
    "# define an empty list that will be used to store the parsed data\n",
    "data = []\n",
    "\n",
    "for elt in root.book:\n",
    "    el_data = {}\n",
    "    for child in elt.getchildren():\n",
    "        el_data[child.tag] = child.pyval\n",
    "    data.append(el_data)"
   ]
  },
  {
   "cell_type": "code",
   "execution_count": 13,
   "metadata": {},
   "outputs": [
    {
     "data": {
      "text/html": [
       "<div>\n",
       "<style scoped>\n",
       "    .dataframe tbody tr th:only-of-type {\n",
       "        vertical-align: middle;\n",
       "    }\n",
       "\n",
       "    .dataframe tbody tr th {\n",
       "        vertical-align: top;\n",
       "    }\n",
       "\n",
       "    .dataframe thead th {\n",
       "        text-align: right;\n",
       "    }\n",
       "</style>\n",
       "<table border=\"1\" class=\"dataframe\">\n",
       "  <thead>\n",
       "    <tr style=\"text-align: right;\">\n",
       "      <th></th>\n",
       "      <th>title</th>\n",
       "      <th>author</th>\n",
       "      <th>price</th>\n",
       "      <th>rating</th>\n",
       "      <th>Rank</th>\n",
       "    </tr>\n",
       "  </thead>\n",
       "  <tbody>\n",
       "    <tr>\n",
       "      <th>0</th>\n",
       "      <td>Zak George's Dog Training Revolution</td>\n",
       "      <td>Zak George, Dina Roth Port</td>\n",
       "      <td>13.79</td>\n",
       "      <td>4.5</td>\n",
       "      <td>1448</td>\n",
       "    </tr>\n",
       "    <tr>\n",
       "      <th>1</th>\n",
       "      <td>The Art of Raising a Puppy</td>\n",
       "      <td>Monks of New Skete</td>\n",
       "      <td>21.03</td>\n",
       "      <td>4.6</td>\n",
       "      <td>9357</td>\n",
       "    </tr>\n",
       "    <tr>\n",
       "      <th>2</th>\n",
       "      <td>Puppy Training for Kids</td>\n",
       "      <td>Colleen Pelar</td>\n",
       "      <td>12.14</td>\n",
       "      <td>4.5</td>\n",
       "      <td>9322</td>\n",
       "    </tr>\n",
       "  </tbody>\n",
       "</table>\n",
       "</div>"
      ],
      "text/plain": [
       "                                  title                      author  price  \\\n",
       "0  Zak George's Dog Training Revolution  Zak George, Dina Roth Port  13.79   \n",
       "1            The Art of Raising a Puppy          Monks of New Skete  21.03   \n",
       "2               Puppy Training for Kids               Colleen Pelar  12.14   \n",
       "\n",
       "   rating  Rank  \n",
       "0     4.5  1448  \n",
       "1     4.6  9357  \n",
       "2     4.5  9322  "
      ]
     },
     "execution_count": 13,
     "metadata": {},
     "output_type": "execute_result"
    }
   ],
   "source": [
    "# now check the results\n",
    "df_xml = pd.DataFrame(data)\n",
    "df_xml"
   ]
  },
  {
   "cell_type": "markdown",
   "metadata": {},
   "source": [
    "Finally, we transformed the xml file to dataframe."
   ]
  },
  {
   "cell_type": "markdown",
   "metadata": {},
   "source": [
    "## Json to dataframe"
   ]
  },
  {
   "cell_type": "code",
   "execution_count": 14,
   "metadata": {},
   "outputs": [
    {
     "data": {
      "text/html": [
       "<div>\n",
       "<style scoped>\n",
       "    .dataframe tbody tr th:only-of-type {\n",
       "        vertical-align: middle;\n",
       "    }\n",
       "\n",
       "    .dataframe tbody tr th {\n",
       "        vertical-align: top;\n",
       "    }\n",
       "\n",
       "    .dataframe thead th {\n",
       "        text-align: right;\n",
       "    }\n",
       "</style>\n",
       "<table border=\"1\" class=\"dataframe\">\n",
       "  <thead>\n",
       "    <tr style=\"text-align: right;\">\n",
       "      <th></th>\n",
       "      <th>title</th>\n",
       "      <th>author</th>\n",
       "      <th>price</th>\n",
       "      <th>rating</th>\n",
       "      <th>Rank</th>\n",
       "    </tr>\n",
       "  </thead>\n",
       "  <tbody>\n",
       "    <tr>\n",
       "      <th>0</th>\n",
       "      <td>Zak George's Dog Training Revolution</td>\n",
       "      <td>Zak George, Dina Roth Port</td>\n",
       "      <td>13.79</td>\n",
       "      <td>4.5</td>\n",
       "      <td>1448</td>\n",
       "    </tr>\n",
       "    <tr>\n",
       "      <th>1</th>\n",
       "      <td>The Art of Raising a Puppy</td>\n",
       "      <td>Monks of New Skete</td>\n",
       "      <td>21.03</td>\n",
       "      <td>4.6</td>\n",
       "      <td>9357</td>\n",
       "    </tr>\n",
       "    <tr>\n",
       "      <th>2</th>\n",
       "      <td>Puppy Training for Kids</td>\n",
       "      <td>Colleen Pelar</td>\n",
       "      <td>12.14</td>\n",
       "      <td>4.5</td>\n",
       "      <td>9322</td>\n",
       "    </tr>\n",
       "  </tbody>\n",
       "</table>\n",
       "</div>"
      ],
      "text/plain": [
       "                                  title                      author  price  \\\n",
       "0  Zak George's Dog Training Revolution  Zak George, Dina Roth Port  13.79   \n",
       "1            The Art of Raising a Puppy          Monks of New Skete  21.03   \n",
       "2               Puppy Training for Kids               Colleen Pelar  12.14   \n",
       "\n",
       "   rating  Rank  \n",
       "0     4.5  1448  \n",
       "1     4.6  9357  \n",
       "2     4.5  9322  "
      ]
     },
     "execution_count": 14,
     "metadata": {},
     "output_type": "execute_result"
    }
   ],
   "source": [
    "data_json = pd.read_json('https://raw.githubusercontent.com/xiaolancara/AIM-5001/master/data/books.json')\n",
    "data_json"
   ]
  },
  {
   "cell_type": "markdown",
   "metadata": {},
   "source": [
    "Finally, we transformed the json file to dataframe."
   ]
  },
  {
   "cell_type": "markdown",
   "metadata": {},
   "source": [
    "# Working with Web API’s"
   ]
  },
  {
   "cell_type": "markdown",
   "metadata": {},
   "source": [
    "In this part, I am going to use the new york times Api about article search. After creating my key, which is URC43xLk5EV8mxxIOdNCp9jSo42lAXnx, I will read the url and then transform the json file into dataframe to do further data analysis.\n",
    "\n",
    "The steps to get the Api key can be found here [https://developer.nytimes.com/get-started](https://developer.nytimes.com/get-started)"
   ]
  },
  {
   "cell_type": "code",
   "execution_count": 15,
   "metadata": {},
   "outputs": [
    {
     "data": {
      "text/plain": [
       "<Response [200]>"
      ]
     },
     "execution_count": 15,
     "metadata": {},
     "output_type": "execute_result"
    }
   ],
   "source": [
    "import requests\n",
    "url = 'https://api.nytimes.com/svc/search/v2/articlesearch.json?q=election&api-key=URC43xLk5EV8mxxIOdNCp9jSo42lAXnx'\n",
    "resp = requests.get(url)\n",
    "resp"
   ]
  },
  {
   "cell_type": "markdown",
   "metadata": {},
   "source": [
    "The response is 200, which is start by 2 means read data successfully."
   ]
  },
  {
   "cell_type": "code",
   "execution_count": 16,
   "metadata": {},
   "outputs": [],
   "source": [
    "# read data in json format\n",
    "data = resp.json()"
   ]
  },
  {
   "cell_type": "code",
   "execution_count": 17,
   "metadata": {},
   "outputs": [
    {
     "data": {
      "text/plain": [
       "dict"
      ]
     },
     "execution_count": 17,
     "metadata": {},
     "output_type": "execute_result"
    }
   ],
   "source": [
    "# check the data type\n",
    "type(data)"
   ]
  },
  {
   "cell_type": "code",
   "execution_count": 18,
   "metadata": {},
   "outputs": [
    {
     "data": {
      "text/plain": [
       "3"
      ]
     },
     "execution_count": 18,
     "metadata": {},
     "output_type": "execute_result"
    }
   ],
   "source": [
    "# check the length of data\n",
    "len(data)"
   ]
  },
  {
   "cell_type": "markdown",
   "metadata": {},
   "source": [
    "Then read the data content roughly (since it's too long, I make it as a comment as below)"
   ]
  },
  {
   "cell_type": "code",
   "execution_count": 19,
   "metadata": {},
   "outputs": [],
   "source": [
    "#data"
   ]
  },
  {
   "cell_type": "code",
   "execution_count": 20,
   "metadata": {},
   "outputs": [
    {
     "data": {
      "text/plain": [
       "dict_keys(['status', 'copyright', 'response'])"
      ]
     },
     "execution_count": 20,
     "metadata": {},
     "output_type": "execute_result"
    }
   ],
   "source": [
    "# check the list data's key\n",
    "data.keys()"
   ]
  },
  {
   "cell_type": "markdown",
   "metadata": {},
   "source": [
    "As we can see, there are only two keys in the json file. Since the 'status' and 'copyright' is not useful for analysis, I'll go ahead to only check the third key 'response'."
   ]
  },
  {
   "cell_type": "code",
   "execution_count": 21,
   "metadata": {},
   "outputs": [
    {
     "data": {
      "text/plain": [
       "dict"
      ]
     },
     "execution_count": 21,
     "metadata": {},
     "output_type": "execute_result"
    }
   ],
   "source": [
    "# check the type of 'response'\n",
    "type(data['response'])"
   ]
  },
  {
   "cell_type": "code",
   "execution_count": 22,
   "metadata": {},
   "outputs": [
    {
     "data": {
      "text/plain": [
       "2"
      ]
     },
     "execution_count": 22,
     "metadata": {},
     "output_type": "execute_result"
    }
   ],
   "source": [
    "# check the length of response\n",
    "len(data['response'])"
   ]
  },
  {
   "cell_type": "code",
   "execution_count": 23,
   "metadata": {},
   "outputs": [
    {
     "data": {
      "text/plain": [
       "dict_keys(['docs', 'meta'])"
      ]
     },
     "execution_count": 23,
     "metadata": {},
     "output_type": "execute_result"
    }
   ],
   "source": [
    "data['response'].keys()"
   ]
  },
  {
   "cell_type": "markdown",
   "metadata": {},
   "source": [
    "There are only two keys in the response. I'll first check the 'docs' key and values"
   ]
  },
  {
   "cell_type": "code",
   "execution_count": 24,
   "metadata": {},
   "outputs": [
    {
     "data": {
      "text/plain": [
       "list"
      ]
     },
     "execution_count": 24,
     "metadata": {},
     "output_type": "execute_result"
    }
   ],
   "source": [
    "# check the type of docs\n",
    "type(data['response']['docs'])"
   ]
  },
  {
   "cell_type": "code",
   "execution_count": 25,
   "metadata": {},
   "outputs": [
    {
     "data": {
      "text/plain": [
       "10"
      ]
     },
     "execution_count": 25,
     "metadata": {},
     "output_type": "execute_result"
    }
   ],
   "source": [
    "# check the length of docs\n",
    "len(data['response']['docs'])"
   ]
  },
  {
   "cell_type": "code",
   "execution_count": 26,
   "metadata": {},
   "outputs": [
    {
     "data": {
      "text/plain": [
       "dict"
      ]
     },
     "execution_count": 26,
     "metadata": {},
     "output_type": "execute_result"
    }
   ],
   "source": [
    "# see the type of first value in docs\n",
    "type(data['response']['docs'][0])"
   ]
  },
  {
   "cell_type": "markdown",
   "metadata": {},
   "source": [
    "Then I'll see the first value of docs roughly"
   ]
  },
  {
   "cell_type": "code",
   "execution_count": 27,
   "metadata": {},
   "outputs": [
    {
     "data": {
      "text/plain": [
       "{'abstract': 'The move would leave the investigation into the Trump-Russia inquiry open when the Biden administration takes over.',\n",
       " 'web_url': 'https://www.nytimes.com/2020/12/01/us/politics/john-durham-special-counsel-russia-investigation.html',\n",
       " 'snippet': 'The move would leave the investigation into the Trump-Russia inquiry open when the Biden administration takes over.',\n",
       " 'lead_paragraph': 'WASHINGTON — Attorney General William P. Barr revealed on Tuesday that he had bestowed special counsel status on John H. Durham, the prosecutor he assigned to investigate the officials who conducted the Trump-Russia inquiry — setting the stage to leave him in place after the Biden administration takes over.',\n",
       " 'print_section': 'A',\n",
       " 'print_page': '18',\n",
       " 'source': 'The New York Times',\n",
       " 'multimedia': [{'rank': 0,\n",
       "   'subtype': 'xlarge',\n",
       "   'caption': None,\n",
       "   'credit': None,\n",
       "   'type': 'image',\n",
       "   'url': 'images/2020/02/13/us/politics/01dc-durham-photo-02/01dc-durham-photo-02-articleLarge-v2.jpg',\n",
       "   'height': 400,\n",
       "   'width': 600,\n",
       "   'legacy': {'xlarge': 'images/2020/02/13/us/politics/01dc-durham-photo-02/01dc-durham-photo-02-articleLarge-v2.jpg',\n",
       "    'xlargewidth': 600,\n",
       "    'xlargeheight': 400},\n",
       "   'subType': 'xlarge',\n",
       "   'crop_name': 'articleLarge'},\n",
       "  {'rank': 0,\n",
       "   'subtype': 'popup',\n",
       "   'caption': None,\n",
       "   'credit': None,\n",
       "   'type': 'image',\n",
       "   'url': 'images/2020/02/13/us/politics/01dc-durham-photo-02/01dc-durham-photo-02-popup-v2.jpg',\n",
       "   'height': 433,\n",
       "   'width': 650,\n",
       "   'legacy': {},\n",
       "   'subType': 'popup',\n",
       "   'crop_name': 'popup'},\n",
       "  {'rank': 0,\n",
       "   'subtype': 'blog480',\n",
       "   'caption': None,\n",
       "   'credit': None,\n",
       "   'type': 'image',\n",
       "   'url': 'images/2020/02/13/us/politics/01dc-durham-photo-02/01dc-durham-photo-02-blog480-v2.jpg',\n",
       "   'height': 320,\n",
       "   'width': 480,\n",
       "   'legacy': {},\n",
       "   'subType': 'blog480',\n",
       "   'crop_name': 'blog480'},\n",
       "  {'rank': 0,\n",
       "   'subtype': 'blog533',\n",
       "   'caption': None,\n",
       "   'credit': None,\n",
       "   'type': 'image',\n",
       "   'url': 'images/2020/02/13/us/politics/01dc-durham-photo-02/01dc-durham-photo-02-blog533-v2.jpg',\n",
       "   'height': 355,\n",
       "   'width': 533,\n",
       "   'legacy': {},\n",
       "   'subType': 'blog533',\n",
       "   'crop_name': 'blog533'},\n",
       "  {'rank': 0,\n",
       "   'subtype': 'blog427',\n",
       "   'caption': None,\n",
       "   'credit': None,\n",
       "   'type': 'image',\n",
       "   'url': 'images/2020/02/13/us/politics/01dc-durham-photo-02/01dc-durham-photo-02-blog427-v2.jpg',\n",
       "   'height': 285,\n",
       "   'width': 427,\n",
       "   'legacy': {},\n",
       "   'subType': 'blog427',\n",
       "   'crop_name': 'blog427'},\n",
       "  {'rank': 0,\n",
       "   'subtype': 'tmagSF',\n",
       "   'caption': None,\n",
       "   'credit': None,\n",
       "   'type': 'image',\n",
       "   'url': 'images/2020/02/13/us/politics/01dc-durham-photo-02/01dc-durham-photo-02-tmagSF-v2.jpg',\n",
       "   'height': 241,\n",
       "   'width': 362,\n",
       "   'legacy': {},\n",
       "   'subType': 'tmagSF',\n",
       "   'crop_name': 'tmagSF'},\n",
       "  {'rank': 0,\n",
       "   'subtype': 'tmagArticle',\n",
       "   'caption': None,\n",
       "   'credit': None,\n",
       "   'type': 'image',\n",
       "   'url': 'images/2020/02/13/us/politics/01dc-durham-photo-02/01dc-durham-photo-02-tmagArticle-v2.jpg',\n",
       "   'height': 395,\n",
       "   'width': 592,\n",
       "   'legacy': {},\n",
       "   'subType': 'tmagArticle',\n",
       "   'crop_name': 'tmagArticle'},\n",
       "  {'rank': 0,\n",
       "   'subtype': 'slide',\n",
       "   'caption': None,\n",
       "   'credit': None,\n",
       "   'type': 'image',\n",
       "   'url': 'images/2020/02/13/us/politics/01dc-durham-photo-02/01dc-durham-photo-02-slide-v2.jpg',\n",
       "   'height': 400,\n",
       "   'width': 600,\n",
       "   'legacy': {},\n",
       "   'subType': 'slide',\n",
       "   'crop_name': 'slide'},\n",
       "  {'rank': 0,\n",
       "   'subtype': 'jumbo',\n",
       "   'caption': None,\n",
       "   'credit': None,\n",
       "   'type': 'image',\n",
       "   'url': 'images/2020/02/13/us/politics/01dc-durham-photo-02/01dc-durham-photo-02-jumbo-v2.jpg',\n",
       "   'height': 683,\n",
       "   'width': 1024,\n",
       "   'legacy': {},\n",
       "   'subType': 'jumbo',\n",
       "   'crop_name': 'jumbo'},\n",
       "  {'rank': 0,\n",
       "   'subtype': 'superJumbo',\n",
       "   'caption': None,\n",
       "   'credit': None,\n",
       "   'type': 'image',\n",
       "   'url': 'images/2020/02/13/us/politics/01dc-durham-photo-02/01dc-durham-photo-02-superJumbo-v2.jpg',\n",
       "   'height': 868,\n",
       "   'width': 1302,\n",
       "   'legacy': {},\n",
       "   'subType': 'superJumbo',\n",
       "   'crop_name': 'superJumbo'},\n",
       "  {'rank': 0,\n",
       "   'subtype': 'blog225',\n",
       "   'caption': None,\n",
       "   'credit': None,\n",
       "   'type': 'image',\n",
       "   'url': 'images/2020/02/13/us/politics/01dc-durham-photo-02/01dc-durham-photo-02-blog225-v2.jpg',\n",
       "   'height': 150,\n",
       "   'width': 225,\n",
       "   'legacy': {},\n",
       "   'subType': 'blog225',\n",
       "   'crop_name': 'blog225'},\n",
       "  {'rank': 0,\n",
       "   'subtype': 'master1050',\n",
       "   'caption': None,\n",
       "   'credit': None,\n",
       "   'type': 'image',\n",
       "   'url': 'images/2020/02/13/us/politics/01dc-durham-photo-02/01dc-durham-photo-02-master1050-v2.jpg',\n",
       "   'height': 700,\n",
       "   'width': 1050,\n",
       "   'legacy': {},\n",
       "   'subType': 'master1050',\n",
       "   'crop_name': 'master1050'},\n",
       "  {'rank': 0,\n",
       "   'subtype': 'master675',\n",
       "   'caption': None,\n",
       "   'credit': None,\n",
       "   'type': 'image',\n",
       "   'url': 'images/2020/02/13/us/politics/01dc-durham-photo-02/01dc-durham-photo-02-master675-v2.jpg',\n",
       "   'height': 450,\n",
       "   'width': 675,\n",
       "   'legacy': {},\n",
       "   'subType': 'master675',\n",
       "   'crop_name': 'master675'},\n",
       "  {'rank': 0,\n",
       "   'subtype': 'master495',\n",
       "   'caption': None,\n",
       "   'credit': None,\n",
       "   'type': 'image',\n",
       "   'url': 'images/2020/02/13/us/politics/01dc-durham-photo-02/01dc-durham-photo-02-master495-v2.jpg',\n",
       "   'height': 330,\n",
       "   'width': 495,\n",
       "   'legacy': {},\n",
       "   'subType': 'master495',\n",
       "   'crop_name': 'master495'},\n",
       "  {'rank': 0,\n",
       "   'subtype': 'master180',\n",
       "   'caption': None,\n",
       "   'credit': None,\n",
       "   'type': 'image',\n",
       "   'url': 'images/2020/02/13/us/politics/01dc-durham-photo-02/01dc-durham-photo-02-master180-v2.jpg',\n",
       "   'height': 120,\n",
       "   'width': 180,\n",
       "   'legacy': {},\n",
       "   'subType': 'master180',\n",
       "   'crop_name': 'master180'},\n",
       "  {'rank': 0,\n",
       "   'subtype': 'master315',\n",
       "   'caption': None,\n",
       "   'credit': None,\n",
       "   'type': 'image',\n",
       "   'url': 'images/2020/02/13/us/politics/01dc-durham-photo-02/01dc-durham-photo-02-master315-v2.jpg',\n",
       "   'height': 210,\n",
       "   'width': 315,\n",
       "   'legacy': {},\n",
       "   'subType': 'master315',\n",
       "   'crop_name': 'master315'},\n",
       "  {'rank': 0,\n",
       "   'subtype': 'master768',\n",
       "   'caption': None,\n",
       "   'credit': None,\n",
       "   'type': 'image',\n",
       "   'url': 'images/2020/02/13/us/politics/01dc-durham-photo-02/01dc-durham-photo-02-master768-v2.jpg',\n",
       "   'height': 512,\n",
       "   'width': 768,\n",
       "   'legacy': {},\n",
       "   'subType': 'master768',\n",
       "   'crop_name': 'master768'},\n",
       "  {'rank': 0,\n",
       "   'subtype': 'thumbnail',\n",
       "   'caption': None,\n",
       "   'credit': None,\n",
       "   'type': 'image',\n",
       "   'url': 'images/2020/02/13/us/politics/01dc-durham-photo-02/13dc-durham3-thumbStandard.jpg',\n",
       "   'height': 75,\n",
       "   'width': 75,\n",
       "   'legacy': {'thumbnail': 'images/2020/02/13/us/politics/01dc-durham-photo-02/13dc-durham3-thumbStandard.jpg',\n",
       "    'thumbnailwidth': 75,\n",
       "    'thumbnailheight': 75},\n",
       "   'subType': 'thumbnail',\n",
       "   'crop_name': 'thumbStandard'},\n",
       "  {'rank': 0,\n",
       "   'subtype': 'blogSmallThumb',\n",
       "   'caption': None,\n",
       "   'credit': None,\n",
       "   'type': 'image',\n",
       "   'url': 'images/2020/02/13/us/politics/01dc-durham-photo-02/13dc-durham3-blogSmallThumb.jpg',\n",
       "   'height': 50,\n",
       "   'width': 50,\n",
       "   'legacy': {},\n",
       "   'subType': 'blogSmallThumb',\n",
       "   'crop_name': 'blogSmallThumb'},\n",
       "  {'rank': 0,\n",
       "   'subtype': 'thumbLarge',\n",
       "   'caption': None,\n",
       "   'credit': None,\n",
       "   'type': 'image',\n",
       "   'url': 'images/2020/02/13/us/politics/01dc-durham-photo-02/13dc-durham3-thumbLarge.jpg',\n",
       "   'height': 150,\n",
       "   'width': 150,\n",
       "   'legacy': {},\n",
       "   'subType': 'thumbLarge',\n",
       "   'crop_name': 'thumbLarge'},\n",
       "  {'rank': 0,\n",
       "   'subtype': 'smallSquare168',\n",
       "   'caption': None,\n",
       "   'credit': None,\n",
       "   'type': 'image',\n",
       "   'url': 'images/2020/02/13/us/politics/01dc-durham-photo-02/13dc-durham3-smallSquare168.jpg',\n",
       "   'height': 168,\n",
       "   'width': 168,\n",
       "   'legacy': {},\n",
       "   'subType': 'smallSquare168',\n",
       "   'crop_name': 'smallSquare168'},\n",
       "  {'rank': 0,\n",
       "   'subtype': 'smallSquare252',\n",
       "   'caption': None,\n",
       "   'credit': None,\n",
       "   'type': 'image',\n",
       "   'url': 'images/2020/02/13/us/politics/01dc-durham-photo-02/13dc-durham3-smallSquare252.jpg',\n",
       "   'height': 252,\n",
       "   'width': 252,\n",
       "   'legacy': {},\n",
       "   'subType': 'smallSquare252',\n",
       "   'crop_name': 'smallSquare252'},\n",
       "  {'rank': 0,\n",
       "   'subtype': 'square320',\n",
       "   'caption': None,\n",
       "   'credit': None,\n",
       "   'type': 'image',\n",
       "   'url': 'images/2020/02/13/us/politics/01dc-durham-photo-02/01dc-durham-photo-02-square320-v2.jpg',\n",
       "   'height': 320,\n",
       "   'width': 320,\n",
       "   'legacy': {},\n",
       "   'subType': 'square320',\n",
       "   'crop_name': 'square320'},\n",
       "  {'rank': 0,\n",
       "   'subtype': 'moth',\n",
       "   'caption': None,\n",
       "   'credit': None,\n",
       "   'type': 'image',\n",
       "   'url': 'images/2020/02/13/us/politics/01dc-durham-photo-02/01dc-durham-photo-02-moth-v2.jpg',\n",
       "   'height': 151,\n",
       "   'width': 151,\n",
       "   'legacy': {},\n",
       "   'subType': 'moth',\n",
       "   'crop_name': 'moth'},\n",
       "  {'rank': 0,\n",
       "   'subtype': 'filmstrip',\n",
       "   'caption': None,\n",
       "   'credit': None,\n",
       "   'type': 'image',\n",
       "   'url': 'images/2020/02/13/us/politics/01dc-durham-photo-02/01dc-durham-photo-02-filmstrip-v2.jpg',\n",
       "   'height': 190,\n",
       "   'width': 190,\n",
       "   'legacy': {},\n",
       "   'subType': 'filmstrip',\n",
       "   'crop_name': 'filmstrip'},\n",
       "  {'rank': 0,\n",
       "   'subtype': 'square640',\n",
       "   'caption': None,\n",
       "   'credit': None,\n",
       "   'type': 'image',\n",
       "   'url': 'images/2020/02/13/us/politics/01dc-durham-photo-02/01dc-durham-photo-02-square640-v2.jpg',\n",
       "   'height': 640,\n",
       "   'width': 640,\n",
       "   'legacy': {},\n",
       "   'subType': 'square640',\n",
       "   'crop_name': 'square640'},\n",
       "  {'rank': 0,\n",
       "   'subtype': 'mediumSquare149',\n",
       "   'caption': None,\n",
       "   'credit': None,\n",
       "   'type': 'image',\n",
       "   'url': 'images/2020/02/13/us/politics/01dc-durham-photo-02/01dc-durham-photo-02-mediumSquare149-v2.jpg',\n",
       "   'height': 149,\n",
       "   'width': 149,\n",
       "   'legacy': {},\n",
       "   'subType': 'mediumSquare149',\n",
       "   'crop_name': 'mediumSquare149'},\n",
       "  {'rank': 0,\n",
       "   'subtype': 'mediumSquareAt3X',\n",
       "   'caption': None,\n",
       "   'credit': None,\n",
       "   'type': 'image',\n",
       "   'url': 'images/2020/02/13/us/politics/01dc-durham-photo-02/01dc-durham-photo-02-mediumSquareAt3X-v2.jpg',\n",
       "   'height': 868,\n",
       "   'width': 869,\n",
       "   'legacy': {},\n",
       "   'subType': 'mediumSquareAt3X',\n",
       "   'crop_name': 'mediumSquareAt3X'},\n",
       "  {'rank': 0,\n",
       "   'subtype': 'sfSpan',\n",
       "   'caption': None,\n",
       "   'credit': None,\n",
       "   'type': 'image',\n",
       "   'url': 'images/2020/02/13/us/politics/01dc-durham-photo-02/01dc-durham-photo-02-sfSpan-v2.jpg',\n",
       "   'height': 263,\n",
       "   'width': 395,\n",
       "   'legacy': {},\n",
       "   'subType': 'sfSpan',\n",
       "   'crop_name': 'sfSpan'},\n",
       "  {'rank': 0,\n",
       "   'subtype': 'largeHorizontal375',\n",
       "   'caption': None,\n",
       "   'credit': None,\n",
       "   'type': 'image',\n",
       "   'url': 'images/2020/02/13/us/politics/01dc-durham-photo-02/01dc-durham-photo-02-largeHorizontal375-v2.jpg',\n",
       "   'height': 250,\n",
       "   'width': 375,\n",
       "   'legacy': {},\n",
       "   'subType': 'largeHorizontal375',\n",
       "   'crop_name': 'largeHorizontal375'},\n",
       "  {'rank': 0,\n",
       "   'subtype': 'largeHorizontalJumbo',\n",
       "   'caption': None,\n",
       "   'credit': None,\n",
       "   'type': 'image',\n",
       "   'url': 'images/2020/02/13/us/politics/01dc-durham-photo-02/01dc-durham-photo-02-largeHorizontalJumbo-v2.jpg',\n",
       "   'height': 683,\n",
       "   'width': 1024,\n",
       "   'legacy': {},\n",
       "   'subType': 'largeHorizontalJumbo',\n",
       "   'crop_name': 'largeHorizontalJumbo'},\n",
       "  {'rank': 0,\n",
       "   'subtype': 'horizontalMediumAt2X',\n",
       "   'caption': None,\n",
       "   'credit': None,\n",
       "   'type': 'image',\n",
       "   'url': 'images/2020/02/13/us/politics/01dc-durham-photo-02/01dc-durham-photo-02-horizontalMediumAt2X-v2.jpg',\n",
       "   'height': 868,\n",
       "   'width': 1302,\n",
       "   'legacy': {},\n",
       "   'subType': 'horizontalMediumAt2X',\n",
       "   'crop_name': 'horizontalMediumAt2X'},\n",
       "  {'rank': 0,\n",
       "   'subtype': 'hpLarge',\n",
       "   'caption': None,\n",
       "   'credit': None,\n",
       "   'type': 'image',\n",
       "   'url': 'images/2020/02/13/us/politics/01dc-durham-photo-02/01dc-durham-photo-02-hpLarge-v2.jpg',\n",
       "   'height': 287,\n",
       "   'width': 511,\n",
       "   'legacy': {},\n",
       "   'subType': 'hpLarge',\n",
       "   'crop_name': 'hpLarge'},\n",
       "  {'rank': 0,\n",
       "   'subtype': 'largeWidescreen573',\n",
       "   'caption': None,\n",
       "   'credit': None,\n",
       "   'type': 'image',\n",
       "   'url': 'images/2020/02/13/us/politics/01dc-durham-photo-02/01dc-durham-photo-02-largeWidescreen573-v2.jpg',\n",
       "   'height': 322,\n",
       "   'width': 573,\n",
       "   'legacy': {},\n",
       "   'subType': 'largeWidescreen573',\n",
       "   'crop_name': 'largeWidescreen573'},\n",
       "  {'rank': 0,\n",
       "   'subtype': 'largeWidescreen1050',\n",
       "   'caption': None,\n",
       "   'credit': None,\n",
       "   'type': 'image',\n",
       "   'url': 'images/2020/02/13/us/politics/01dc-durham-photo-02/01dc-durham-photo-02-largeWidescreen1050-v2.jpg',\n",
       "   'height': 590,\n",
       "   'width': 1050,\n",
       "   'legacy': {},\n",
       "   'subType': 'largeWidescreen1050',\n",
       "   'crop_name': 'largeWidescreen1050'},\n",
       "  {'rank': 0,\n",
       "   'subtype': 'wide',\n",
       "   'caption': None,\n",
       "   'credit': None,\n",
       "   'type': 'image',\n",
       "   'url': 'images/2020/02/13/us/politics/01dc-durham-photo-02/01dc-durham-photo-02-thumbWide-v2.jpg',\n",
       "   'height': 126,\n",
       "   'width': 190,\n",
       "   'legacy': {'widewidth': 190,\n",
       "    'wideheight': 126,\n",
       "    'wide': 'images/2020/02/13/us/politics/01dc-durham-photo-02/01dc-durham-photo-02-thumbWide-v2.jpg'},\n",
       "   'subType': 'wide',\n",
       "   'crop_name': 'thumbWide'},\n",
       "  {'rank': 0,\n",
       "   'subtype': 'videoThumb',\n",
       "   'caption': None,\n",
       "   'credit': None,\n",
       "   'type': 'image',\n",
       "   'url': 'images/2020/02/13/us/politics/01dc-durham-photo-02/01dc-durham-photo-02-videoThumb-v2.jpg',\n",
       "   'height': 50,\n",
       "   'width': 75,\n",
       "   'legacy': {},\n",
       "   'subType': 'videoThumb',\n",
       "   'crop_name': 'videoThumb'},\n",
       "  {'rank': 0,\n",
       "   'subtype': 'videoLarge',\n",
       "   'caption': None,\n",
       "   'credit': None,\n",
       "   'type': 'image',\n",
       "   'url': 'images/2020/02/13/us/politics/01dc-durham-photo-02/01dc-durham-photo-02-videoLarge-v2.jpg',\n",
       "   'height': 507,\n",
       "   'width': 768,\n",
       "   'legacy': {},\n",
       "   'subType': 'videoLarge',\n",
       "   'crop_name': 'videoLarge'},\n",
       "  {'rank': 0,\n",
       "   'subtype': 'mediumThreeByTwo210',\n",
       "   'caption': None,\n",
       "   'credit': None,\n",
       "   'type': 'image',\n",
       "   'url': 'images/2020/02/13/us/politics/01dc-durham-photo-02/01dc-durham-photo-02-mediumThreeByTwo210-v2.jpg',\n",
       "   'height': 140,\n",
       "   'width': 210,\n",
       "   'legacy': {},\n",
       "   'subType': 'mediumThreeByTwo210',\n",
       "   'crop_name': 'mediumThreeByTwo210'},\n",
       "  {'rank': 0,\n",
       "   'subtype': 'mediumThreeByTwo225',\n",
       "   'caption': None,\n",
       "   'credit': None,\n",
       "   'type': 'image',\n",
       "   'url': 'images/2020/02/13/us/politics/01dc-durham-photo-02/01dc-durham-photo-02-mediumThreeByTwo225-v2.jpg',\n",
       "   'height': 150,\n",
       "   'width': 225,\n",
       "   'legacy': {},\n",
       "   'subType': 'mediumThreeByTwo225',\n",
       "   'crop_name': 'mediumThreeByTwo225'},\n",
       "  {'rank': 0,\n",
       "   'subtype': 'mediumThreeByTwo440',\n",
       "   'caption': None,\n",
       "   'credit': None,\n",
       "   'type': 'image',\n",
       "   'url': 'images/2020/02/13/us/politics/01dc-durham-photo-02/01dc-durham-photo-02-mediumThreeByTwo440-v2.jpg',\n",
       "   'height': 293,\n",
       "   'width': 440,\n",
       "   'legacy': {},\n",
       "   'subType': 'mediumThreeByTwo440',\n",
       "   'crop_name': 'mediumThreeByTwo440'},\n",
       "  {'rank': 0,\n",
       "   'subtype': 'mediumThreeByTwo252',\n",
       "   'caption': None,\n",
       "   'credit': None,\n",
       "   'type': 'image',\n",
       "   'url': 'images/2020/02/13/us/politics/01dc-durham-photo-02/01dc-durham-photo-02-mediumThreeByTwo252-v2.jpg',\n",
       "   'height': 168,\n",
       "   'width': 252,\n",
       "   'legacy': {},\n",
       "   'subType': 'mediumThreeByTwo252',\n",
       "   'crop_name': 'mediumThreeByTwo252'},\n",
       "  {'rank': 0,\n",
       "   'subtype': 'mediumThreeByTwo378',\n",
       "   'caption': None,\n",
       "   'credit': None,\n",
       "   'type': 'image',\n",
       "   'url': 'images/2020/02/13/us/politics/01dc-durham-photo-02/01dc-durham-photo-02-mediumThreeByTwo378-v2.jpg',\n",
       "   'height': 252,\n",
       "   'width': 378,\n",
       "   'legacy': {},\n",
       "   'subType': 'mediumThreeByTwo378',\n",
       "   'crop_name': 'mediumThreeByTwo378'},\n",
       "  {'rank': 0,\n",
       "   'subtype': 'threeByTwoLargeAt2X',\n",
       "   'caption': None,\n",
       "   'credit': None,\n",
       "   'type': 'image',\n",
       "   'url': 'images/2020/02/13/us/politics/01dc-durham-photo-02/01dc-durham-photo-02-threeByTwoLargeAt2X-v2.jpg',\n",
       "   'height': 868,\n",
       "   'width': 1302,\n",
       "   'legacy': {},\n",
       "   'subType': 'threeByTwoLargeAt2X',\n",
       "   'crop_name': 'threeByTwoLargeAt2X'},\n",
       "  {'rank': 0,\n",
       "   'subtype': 'threeByTwoMediumAt2X',\n",
       "   'caption': None,\n",
       "   'credit': None,\n",
       "   'type': 'image',\n",
       "   'url': 'images/2020/02/13/us/politics/01dc-durham-photo-02/01dc-durham-photo-02-threeByTwoMediumAt2X-v2.jpg',\n",
       "   'height': 868,\n",
       "   'width': 1302,\n",
       "   'legacy': {},\n",
       "   'subType': 'threeByTwoMediumAt2X',\n",
       "   'crop_name': 'threeByTwoMediumAt2X'},\n",
       "  {'rank': 0,\n",
       "   'subtype': 'threeByTwoSmallAt2X',\n",
       "   'caption': None,\n",
       "   'credit': None,\n",
       "   'type': 'image',\n",
       "   'url': 'images/2020/02/13/us/politics/01dc-durham-photo-02/01dc-durham-photo-02-threeByTwoSmallAt2X-v2.jpg',\n",
       "   'height': 400,\n",
       "   'width': 600,\n",
       "   'legacy': {},\n",
       "   'subType': 'threeByTwoSmallAt2X',\n",
       "   'crop_name': 'threeByTwoSmallAt2X'},\n",
       "  {'rank': 0,\n",
       "   'subtype': 'articleInline',\n",
       "   'caption': None,\n",
       "   'credit': None,\n",
       "   'type': 'image',\n",
       "   'url': 'images/2020/02/13/us/politics/01dc-durham-photo-02/01dc-durham-photo-02-articleInline-v2.jpg',\n",
       "   'height': 127,\n",
       "   'width': 190,\n",
       "   'legacy': {},\n",
       "   'subType': 'articleInline',\n",
       "   'crop_name': 'articleInline'},\n",
       "  {'rank': 0,\n",
       "   'subtype': 'hpSmall',\n",
       "   'caption': None,\n",
       "   'credit': None,\n",
       "   'type': 'image',\n",
       "   'url': 'images/2020/02/13/us/politics/01dc-durham-photo-02/01dc-durham-photo-02-hpSmall-v2.jpg',\n",
       "   'height': 109,\n",
       "   'width': 163,\n",
       "   'legacy': {},\n",
       "   'subType': 'hpSmall',\n",
       "   'crop_name': 'hpSmall'},\n",
       "  {'rank': 0,\n",
       "   'subtype': 'blogSmallInline',\n",
       "   'caption': None,\n",
       "   'credit': None,\n",
       "   'type': 'image',\n",
       "   'url': 'images/2020/02/13/us/politics/01dc-durham-photo-02/01dc-durham-photo-02-blogSmallInline-v2.jpg',\n",
       "   'height': 101,\n",
       "   'width': 151,\n",
       "   'legacy': {},\n",
       "   'subType': 'blogSmallInline',\n",
       "   'crop_name': 'blogSmallInline'},\n",
       "  {'rank': 0,\n",
       "   'subtype': 'mediumFlexible177',\n",
       "   'caption': None,\n",
       "   'credit': None,\n",
       "   'type': 'image',\n",
       "   'url': 'images/2020/02/13/us/politics/01dc-durham-photo-02/01dc-durham-photo-02-mediumFlexible177-v2.jpg',\n",
       "   'height': 118,\n",
       "   'width': 177,\n",
       "   'legacy': {},\n",
       "   'subType': 'mediumFlexible177',\n",
       "   'crop_name': 'mediumFlexible177'},\n",
       "  {'rank': 0,\n",
       "   'subtype': 'videoSmall',\n",
       "   'caption': None,\n",
       "   'credit': None,\n",
       "   'type': 'image',\n",
       "   'url': 'images/2020/02/13/us/politics/01dc-durham-photo-02/01dc-durham-photo-02-videoSmall-v2.jpg',\n",
       "   'height': 281,\n",
       "   'width': 500,\n",
       "   'legacy': {},\n",
       "   'subType': 'videoSmall',\n",
       "   'crop_name': 'videoSmall'},\n",
       "  {'rank': 0,\n",
       "   'subtype': 'videoHpMedium',\n",
       "   'caption': None,\n",
       "   'credit': None,\n",
       "   'type': 'image',\n",
       "   'url': 'images/2020/02/13/us/politics/01dc-durham-photo-02/01dc-durham-photo-02-videoHpMedium-v2.jpg',\n",
       "   'height': 211,\n",
       "   'width': 375,\n",
       "   'legacy': {},\n",
       "   'subType': 'videoHpMedium',\n",
       "   'crop_name': 'videoHpMedium'},\n",
       "  {'rank': 0,\n",
       "   'subtype': 'videoSixteenByNine600',\n",
       "   'caption': None,\n",
       "   'credit': None,\n",
       "   'type': 'image',\n",
       "   'url': 'images/2020/02/13/us/politics/01dc-durham-photo-02/01dc-durham-photo-02-videoSixteenByNine600-v2.jpg',\n",
       "   'height': 338,\n",
       "   'width': 600,\n",
       "   'legacy': {},\n",
       "   'subType': 'videoSixteenByNine600',\n",
       "   'crop_name': 'videoSixteenByNine600'},\n",
       "  {'rank': 0,\n",
       "   'subtype': 'videoSixteenByNine540',\n",
       "   'caption': None,\n",
       "   'credit': None,\n",
       "   'type': 'image',\n",
       "   'url': 'images/2020/02/13/us/politics/01dc-durham-photo-02/01dc-durham-photo-02-videoSixteenByNine540-v2.jpg',\n",
       "   'height': 304,\n",
       "   'width': 540,\n",
       "   'legacy': {},\n",
       "   'subType': 'videoSixteenByNine540',\n",
       "   'crop_name': 'videoSixteenByNine540'},\n",
       "  {'rank': 0,\n",
       "   'subtype': 'videoSixteenByNine495',\n",
       "   'caption': None,\n",
       "   'credit': None,\n",
       "   'type': 'image',\n",
       "   'url': 'images/2020/02/13/us/politics/01dc-durham-photo-02/01dc-durham-photo-02-videoSixteenByNine495-v2.jpg',\n",
       "   'height': 278,\n",
       "   'width': 495,\n",
       "   'legacy': {},\n",
       "   'subType': 'videoSixteenByNine495',\n",
       "   'crop_name': 'videoSixteenByNine495'},\n",
       "  {'rank': 0,\n",
       "   'subtype': 'videoSixteenByNine390',\n",
       "   'caption': None,\n",
       "   'credit': None,\n",
       "   'type': 'image',\n",
       "   'url': 'images/2020/02/13/us/politics/01dc-durham-photo-02/01dc-durham-photo-02-videoSixteenByNine390-v2.jpg',\n",
       "   'height': 219,\n",
       "   'width': 390,\n",
       "   'legacy': {},\n",
       "   'subType': 'videoSixteenByNine390',\n",
       "   'crop_name': 'videoSixteenByNine390'},\n",
       "  {'rank': 0,\n",
       "   'subtype': 'videoSixteenByNine1050',\n",
       "   'caption': None,\n",
       "   'credit': None,\n",
       "   'type': 'image',\n",
       "   'url': 'images/2020/02/13/us/politics/01dc-durham-photo-02/01dc-durham-photo-02-videoSixteenByNine1050-v2.jpg',\n",
       "   'height': 591,\n",
       "   'width': 1050,\n",
       "   'legacy': {},\n",
       "   'subType': 'videoSixteenByNine1050',\n",
       "   'crop_name': 'videoSixteenByNine1050'},\n",
       "  {'rank': 0,\n",
       "   'subtype': 'videoSixteenByNine480',\n",
       "   'caption': None,\n",
       "   'credit': None,\n",
       "   'type': 'image',\n",
       "   'url': 'images/2020/02/13/us/politics/01dc-durham-photo-02/01dc-durham-photo-02-videoSixteenByNine480-v2.jpg',\n",
       "   'height': 270,\n",
       "   'width': 480,\n",
       "   'legacy': {},\n",
       "   'subType': 'videoSixteenByNine480',\n",
       "   'crop_name': 'videoSixteenByNine480'},\n",
       "  {'rank': 0,\n",
       "   'subtype': 'videoSixteenByNine310',\n",
       "   'caption': None,\n",
       "   'credit': None,\n",
       "   'type': 'image',\n",
       "   'url': 'images/2020/02/13/us/politics/01dc-durham-photo-02/01dc-durham-photo-02-videoSixteenByNine310-v2.jpg',\n",
       "   'height': 174,\n",
       "   'width': 310,\n",
       "   'legacy': {},\n",
       "   'subType': 'videoSixteenByNine310',\n",
       "   'crop_name': 'videoSixteenByNine310'},\n",
       "  {'rank': 0,\n",
       "   'subtype': 'videoSixteenByNine225',\n",
       "   'caption': None,\n",
       "   'credit': None,\n",
       "   'type': 'image',\n",
       "   'url': 'images/2020/02/13/us/politics/01dc-durham-photo-02/01dc-durham-photo-02-videoSixteenByNine225-v2.jpg',\n",
       "   'height': 126,\n",
       "   'width': 225,\n",
       "   'legacy': {},\n",
       "   'subType': 'videoSixteenByNine225',\n",
       "   'crop_name': 'videoSixteenByNine225'},\n",
       "  {'rank': 0,\n",
       "   'subtype': 'videoSixteenByNine96',\n",
       "   'caption': None,\n",
       "   'credit': None,\n",
       "   'type': 'image',\n",
       "   'url': 'images/2020/02/13/us/politics/01dc-durham-photo-02/01dc-durham-photo-02-videoSixteenByNine96-v2.jpg',\n",
       "   'height': 54,\n",
       "   'width': 96,\n",
       "   'legacy': {},\n",
       "   'subType': 'videoSixteenByNine96',\n",
       "   'crop_name': 'videoSixteenByNine96'},\n",
       "  {'rank': 0,\n",
       "   'subtype': 'videoSixteenByNine768',\n",
       "   'caption': None,\n",
       "   'credit': None,\n",
       "   'type': 'image',\n",
       "   'url': 'images/2020/02/13/us/politics/01dc-durham-photo-02/01dc-durham-photo-02-videoSixteenByNine768-v2.jpg',\n",
       "   'height': 432,\n",
       "   'width': 768,\n",
       "   'legacy': {},\n",
       "   'subType': 'videoSixteenByNine768',\n",
       "   'crop_name': 'videoSixteenByNine768'},\n",
       "  {'rank': 0,\n",
       "   'subtype': 'videoSixteenByNine150',\n",
       "   'caption': None,\n",
       "   'credit': None,\n",
       "   'type': 'image',\n",
       "   'url': 'images/2020/02/13/us/politics/01dc-durham-photo-02/01dc-durham-photo-02-videoSixteenByNine150-v2.jpg',\n",
       "   'height': 84,\n",
       "   'width': 150,\n",
       "   'legacy': {},\n",
       "   'subType': 'videoSixteenByNine150',\n",
       "   'crop_name': 'videoSixteenByNine150'},\n",
       "  {'rank': 0,\n",
       "   'subtype': 'videoSixteenByNineJumbo1600',\n",
       "   'caption': None,\n",
       "   'credit': None,\n",
       "   'type': 'image',\n",
       "   'url': 'images/2020/02/13/us/politics/01dc-durham-photo-02/01dc-durham-photo-02-videoSixteenByNineJumbo1600-v2.jpg',\n",
       "   'height': 732,\n",
       "   'width': 1302,\n",
       "   'legacy': {},\n",
       "   'subType': 'videoSixteenByNineJumbo1600',\n",
       "   'crop_name': 'videoSixteenByNineJumbo1600'},\n",
       "  {'rank': 0,\n",
       "   'subtype': 'miniMoth',\n",
       "   'caption': None,\n",
       "   'credit': None,\n",
       "   'type': 'image',\n",
       "   'url': 'images/2020/02/13/us/politics/01dc-durham-photo-02/13dc-durham3-miniMoth.jpg',\n",
       "   'height': 70,\n",
       "   'width': 151,\n",
       "   'legacy': {},\n",
       "   'subType': 'miniMoth',\n",
       "   'crop_name': 'miniMoth'},\n",
       "  {'rank': 0,\n",
       "   'subtype': 'windowsTile336H',\n",
       "   'caption': None,\n",
       "   'credit': None,\n",
       "   'type': 'image',\n",
       "   'url': 'images/2020/02/13/us/politics/01dc-durham-photo-02/13dc-durham3-windowsTile336H.jpg',\n",
       "   'height': 336,\n",
       "   'width': 694,\n",
       "   'legacy': {},\n",
       "   'subType': 'windowsTile336H',\n",
       "   'crop_name': 'windowsTile336H'},\n",
       "  {'rank': 0,\n",
       "   'subtype': 'facebookJumbo',\n",
       "   'caption': None,\n",
       "   'credit': None,\n",
       "   'type': 'image',\n",
       "   'url': 'images/2020/02/13/us/politics/01dc-durham-photo-02/13dc-durham3-facebookJumbo.jpg',\n",
       "   'height': 550,\n",
       "   'width': 1050,\n",
       "   'legacy': {},\n",
       "   'subType': 'facebookJumbo',\n",
       "   'crop_name': 'facebookJumbo'},\n",
       "  {'rank': 0,\n",
       "   'subtype': 'watch308',\n",
       "   'caption': None,\n",
       "   'credit': None,\n",
       "   'type': 'image',\n",
       "   'url': 'images/2020/02/13/us/politics/01dc-durham-photo-02/01dc-durham-photo-02-watch308-v2.jpg',\n",
       "   'height': 348,\n",
       "   'width': 312,\n",
       "   'legacy': {},\n",
       "   'subType': 'watch308',\n",
       "   'crop_name': 'watch308'},\n",
       "  {'rank': 0,\n",
       "   'subtype': 'watch268',\n",
       "   'caption': None,\n",
       "   'credit': None,\n",
       "   'type': 'image',\n",
       "   'url': 'images/2020/02/13/us/politics/01dc-durham-photo-02/01dc-durham-photo-02-watch268-v2.jpg',\n",
       "   'height': 303,\n",
       "   'width': 272,\n",
       "   'legacy': {},\n",
       "   'subType': 'watch268',\n",
       "   'crop_name': 'watch268'},\n",
       "  {'rank': 0,\n",
       "   'subtype': 'mobileMasterAt3x',\n",
       "   'caption': None,\n",
       "   'credit': None,\n",
       "   'type': 'image',\n",
       "   'url': 'images/2020/02/13/us/politics/01dc-durham-photo-02/01dc-durham-photo-02-mobileMasterAt3x-v2.jpg',\n",
       "   'height': 868,\n",
       "   'width': 1302,\n",
       "   'legacy': {},\n",
       "   'subType': 'mobileMasterAt3x',\n",
       "   'crop_name': 'mobileMasterAt3x'}],\n",
       " 'headline': {'main': 'Barr Makes Durham a Special Counsel in a Bid to Entrench Scrutiny of the Russia Inquiry',\n",
       "  'kicker': None,\n",
       "  'content_kicker': None,\n",
       "  'print_headline': 'Barr Moved to Entrench Scrutiny of the Russia Inquiry',\n",
       "  'name': None,\n",
       "  'seo': None,\n",
       "  'sub': None},\n",
       " 'keywords': [{'name': 'subject',\n",
       "   'value': 'Presidential Election of 2020',\n",
       "   'rank': 1,\n",
       "   'major': 'N'},\n",
       "  {'name': 'subject',\n",
       "   'value': 'Russian Interference in 2016 US Elections and Ties to Trump Associates',\n",
       "   'rank': 2,\n",
       "   'major': 'N'},\n",
       "  {'name': 'subject',\n",
       "   'value': 'Special Prosecutors (Independent Counsel)',\n",
       "   'rank': 3,\n",
       "   'major': 'N'},\n",
       "  {'name': 'subject',\n",
       "   'value': 'United States Politics and Government',\n",
       "   'rank': 4,\n",
       "   'major': 'N'},\n",
       "  {'name': 'subject',\n",
       "   'value': 'Appointments and Executive Changes',\n",
       "   'rank': 5,\n",
       "   'major': 'N'},\n",
       "  {'name': 'subject', 'value': 'Attorneys General', 'rank': 6, 'major': 'N'},\n",
       "  {'name': 'organizations',\n",
       "   'value': 'Justice Department',\n",
       "   'rank': 7,\n",
       "   'major': 'N'},\n",
       "  {'name': 'persons', 'value': 'Barr, William P', 'rank': 8, 'major': 'N'},\n",
       "  {'name': 'persons', 'value': 'Durham, John H', 'rank': 9, 'major': 'N'},\n",
       "  {'name': 'persons',\n",
       "   'value': 'Mueller, Robert S III',\n",
       "   'rank': 10,\n",
       "   'major': 'N'},\n",
       "  {'name': 'persons', 'value': 'Trump, Donald J', 'rank': 11, 'major': 'N'}],\n",
       " 'pub_date': '2020-12-02T00:55:12+0000',\n",
       " 'document_type': 'article',\n",
       " 'news_desk': 'Washington',\n",
       " 'section_name': 'U.S.',\n",
       " 'subsection_name': 'Politics',\n",
       " 'byline': {'original': 'By Charlie Savage',\n",
       "  'person': [{'firstname': 'Charlie',\n",
       "    'middlename': None,\n",
       "    'lastname': 'Savage',\n",
       "    'qualifier': None,\n",
       "    'title': None,\n",
       "    'role': 'reported',\n",
       "    'organization': '',\n",
       "    'rank': 1}],\n",
       "  'organization': None},\n",
       " 'type_of_material': 'News',\n",
       " '_id': 'nyt://article/397e2f56-d8dd-53f5-922c-ade61b512c65',\n",
       " 'word_count': 1326,\n",
       " 'uri': 'nyt://article/397e2f56-d8dd-53f5-922c-ade61b512c65'}"
      ]
     },
     "execution_count": 27,
     "metadata": {},
     "output_type": "execute_result"
    }
   ],
   "source": [
    "data['response']['docs'][0]"
   ]
  },
  {
   "cell_type": "code",
   "execution_count": 28,
   "metadata": {},
   "outputs": [
    {
     "data": {
      "text/plain": [
       "dict_keys(['abstract', 'web_url', 'snippet', 'lead_paragraph', 'print_section', 'print_page', 'source', 'multimedia', 'headline', 'keywords', 'pub_date', 'document_type', 'news_desk', 'section_name', 'subsection_name', 'byline', 'type_of_material', '_id', 'word_count', 'uri'])"
      ]
     },
     "execution_count": 28,
     "metadata": {},
     "output_type": "execute_result"
    }
   ],
   "source": [
    "# check the keys of list docs[0]\n",
    "data['response']['docs'][0].keys()"
   ]
  },
  {
   "cell_type": "markdown",
   "metadata": {},
   "source": [
    "According to the keys and values, I decided to choose the valuable information to be a dataframe. The attributes I will choose are as follows, \n",
    "'pub_date', 'document_type', 'news_desk',                                                   'section_name', 'subsection_name',                                                   'type_of_material','word_count', 'uri'"
   ]
  },
  {
   "cell_type": "code",
   "execution_count": 29,
   "metadata": {},
   "outputs": [],
   "source": [
    "# use for loop to collect all list data\n",
    "res_dics = []\n",
    "for i in range(len(data['response']['docs'])):\n",
    "    dic_mult = data['response']['docs'][i]\n",
    "    res_dics.append(dic_mult)"
   ]
  },
  {
   "cell_type": "code",
   "execution_count": 30,
   "metadata": {},
   "outputs": [
    {
     "data": {
      "text/html": [
       "<div>\n",
       "<style scoped>\n",
       "    .dataframe tbody tr th:only-of-type {\n",
       "        vertical-align: middle;\n",
       "    }\n",
       "\n",
       "    .dataframe tbody tr th {\n",
       "        vertical-align: top;\n",
       "    }\n",
       "\n",
       "    .dataframe thead th {\n",
       "        text-align: right;\n",
       "    }\n",
       "</style>\n",
       "<table border=\"1\" class=\"dataframe\">\n",
       "  <thead>\n",
       "    <tr style=\"text-align: right;\">\n",
       "      <th></th>\n",
       "      <th>pub_date</th>\n",
       "      <th>document_type</th>\n",
       "      <th>news_desk</th>\n",
       "      <th>section_name</th>\n",
       "      <th>subsection_name</th>\n",
       "      <th>type_of_material</th>\n",
       "      <th>word_count</th>\n",
       "      <th>uri</th>\n",
       "    </tr>\n",
       "  </thead>\n",
       "  <tbody>\n",
       "    <tr>\n",
       "      <th>0</th>\n",
       "      <td>2020-12-02T00:55:12+0000</td>\n",
       "      <td>article</td>\n",
       "      <td>Washington</td>\n",
       "      <td>U.S.</td>\n",
       "      <td>Politics</td>\n",
       "      <td>News</td>\n",
       "      <td>1326</td>\n",
       "      <td>nyt://article/397e2f56-d8dd-53f5-922c-ade61b51...</td>\n",
       "    </tr>\n",
       "    <tr>\n",
       "      <th>1</th>\n",
       "      <td>2020-12-01T00:29:28+0000</td>\n",
       "      <td>article</td>\n",
       "      <td>Washington</td>\n",
       "      <td>U.S.</td>\n",
       "      <td>Politics</td>\n",
       "      <td>News</td>\n",
       "      <td>606</td>\n",
       "      <td>nyt://article/b9b1d7ef-2193-5f47-9844-584415dd...</td>\n",
       "    </tr>\n",
       "    <tr>\n",
       "      <th>2</th>\n",
       "      <td>2020-11-25T21:13:46+0000</td>\n",
       "      <td>article</td>\n",
       "      <td>Washington</td>\n",
       "      <td>U.S.</td>\n",
       "      <td>Politics</td>\n",
       "      <td>News</td>\n",
       "      <td>1659</td>\n",
       "      <td>nyt://article/91d887a1-b436-5b03-86f6-9906781b...</td>\n",
       "    </tr>\n",
       "    <tr>\n",
       "      <th>3</th>\n",
       "      <td>2020-11-11T00:20:12+0000</td>\n",
       "      <td>article</td>\n",
       "      <td>Washington</td>\n",
       "      <td>U.S.</td>\n",
       "      <td>Politics</td>\n",
       "      <td>News</td>\n",
       "      <td>1081</td>\n",
       "      <td>nyt://article/fbd09d3c-1730-5c67-bebc-353d22ac...</td>\n",
       "    </tr>\n",
       "    <tr>\n",
       "      <th>4</th>\n",
       "      <td>2020-11-02T22:55:06+0000</td>\n",
       "      <td>article</td>\n",
       "      <td>Washington</td>\n",
       "      <td>U.S.</td>\n",
       "      <td>Politics</td>\n",
       "      <td>News</td>\n",
       "      <td>776</td>\n",
       "      <td>nyt://article/bd7d5e75-70e9-5497-8865-ab4ab141...</td>\n",
       "    </tr>\n",
       "    <tr>\n",
       "      <th>5</th>\n",
       "      <td>2020-10-29T20:58:44+0000</td>\n",
       "      <td>multimedia</td>\n",
       "      <td>New York</td>\n",
       "      <td>New York</td>\n",
       "      <td>NaN</td>\n",
       "      <td>Interactive Feature</td>\n",
       "      <td>0</td>\n",
       "      <td>nyt://interactive/bc22ede8-dd3a-5c89-9457-47db...</td>\n",
       "    </tr>\n",
       "    <tr>\n",
       "      <th>6</th>\n",
       "      <td>2020-10-23T20:00:15+0000</td>\n",
       "      <td>article</td>\n",
       "      <td>Washington</td>\n",
       "      <td>U.S.</td>\n",
       "      <td>Politics</td>\n",
       "      <td>News</td>\n",
       "      <td>1149</td>\n",
       "      <td>nyt://article/dfc764bb-5551-5a3f-963c-69595639...</td>\n",
       "    </tr>\n",
       "    <tr>\n",
       "      <th>7</th>\n",
       "      <td>2020-10-22T19:26:29+0000</td>\n",
       "      <td>article</td>\n",
       "      <td>Washington</td>\n",
       "      <td>U.S.</td>\n",
       "      <td>Politics</td>\n",
       "      <td>News</td>\n",
       "      <td>1506</td>\n",
       "      <td>nyt://article/2adbe1c9-ba9f-5c56-86c7-ad90b68d...</td>\n",
       "    </tr>\n",
       "    <tr>\n",
       "      <th>8</th>\n",
       "      <td>2020-10-22T00:47:21+0000</td>\n",
       "      <td>article</td>\n",
       "      <td>Washington</td>\n",
       "      <td>U.S.</td>\n",
       "      <td>Politics</td>\n",
       "      <td>News</td>\n",
       "      <td>1849</td>\n",
       "      <td>nyt://article/cf1bfef5-ef35-5153-a012-c246f417...</td>\n",
       "    </tr>\n",
       "    <tr>\n",
       "      <th>9</th>\n",
       "      <td>2020-10-21T14:21:12+0000</td>\n",
       "      <td>article</td>\n",
       "      <td>Washington</td>\n",
       "      <td>U.S.</td>\n",
       "      <td>Politics</td>\n",
       "      <td>News</td>\n",
       "      <td>1383</td>\n",
       "      <td>nyt://article/f3f62545-e6de-5da0-81c7-59c1bd56...</td>\n",
       "    </tr>\n",
       "  </tbody>\n",
       "</table>\n",
       "</div>"
      ],
      "text/plain": [
       "                   pub_date document_type   news_desk section_name  \\\n",
       "0  2020-12-02T00:55:12+0000       article  Washington         U.S.   \n",
       "1  2020-12-01T00:29:28+0000       article  Washington         U.S.   \n",
       "2  2020-11-25T21:13:46+0000       article  Washington         U.S.   \n",
       "3  2020-11-11T00:20:12+0000       article  Washington         U.S.   \n",
       "4  2020-11-02T22:55:06+0000       article  Washington         U.S.   \n",
       "5  2020-10-29T20:58:44+0000    multimedia    New York     New York   \n",
       "6  2020-10-23T20:00:15+0000       article  Washington         U.S.   \n",
       "7  2020-10-22T19:26:29+0000       article  Washington         U.S.   \n",
       "8  2020-10-22T00:47:21+0000       article  Washington         U.S.   \n",
       "9  2020-10-21T14:21:12+0000       article  Washington         U.S.   \n",
       "\n",
       "  subsection_name     type_of_material  word_count  \\\n",
       "0        Politics                 News        1326   \n",
       "1        Politics                 News         606   \n",
       "2        Politics                 News        1659   \n",
       "3        Politics                 News        1081   \n",
       "4        Politics                 News         776   \n",
       "5             NaN  Interactive Feature           0   \n",
       "6        Politics                 News        1149   \n",
       "7        Politics                 News        1506   \n",
       "8        Politics                 News        1849   \n",
       "9        Politics                 News        1383   \n",
       "\n",
       "                                                 uri  \n",
       "0  nyt://article/397e2f56-d8dd-53f5-922c-ade61b51...  \n",
       "1  nyt://article/b9b1d7ef-2193-5f47-9844-584415dd...  \n",
       "2  nyt://article/91d887a1-b436-5b03-86f6-9906781b...  \n",
       "3  nyt://article/fbd09d3c-1730-5c67-bebc-353d22ac...  \n",
       "4  nyt://article/bd7d5e75-70e9-5497-8865-ab4ab141...  \n",
       "5  nyt://interactive/bc22ede8-dd3a-5c89-9457-47db...  \n",
       "6  nyt://article/dfc764bb-5551-5a3f-963c-69595639...  \n",
       "7  nyt://article/2adbe1c9-ba9f-5c56-86c7-ad90b68d...  \n",
       "8  nyt://article/cf1bfef5-ef35-5153-a012-c246f417...  \n",
       "9  nyt://article/f3f62545-e6de-5da0-81c7-59c1bd56...  "
      ]
     },
     "execution_count": 30,
     "metadata": {},
     "output_type": "execute_result"
    }
   ],
   "source": [
    "# transform data into dataframe\n",
    "df_article = pd.DataFrame(res_dics, columns = ['pub_date', 'document_type', 'news_desk', \n",
    "                                                   'section_name', 'subsection_name', \n",
    "                                                   'type_of_material','word_count', 'uri'])\n",
    "df_article"
   ]
  },
  {
   "cell_type": "markdown",
   "metadata": {},
   "source": [
    "Finally, we got the dataframe that can be used to do further analysis."
   ]
  },
  {
   "cell_type": "markdown",
   "metadata": {},
   "source": [
    "Same, I will extract the other values from key = meta"
   ]
  },
  {
   "cell_type": "code",
   "execution_count": 31,
   "metadata": {},
   "outputs": [
    {
     "data": {
      "text/plain": [
       "dict"
      ]
     },
     "execution_count": 31,
     "metadata": {},
     "output_type": "execute_result"
    }
   ],
   "source": [
    "type(data['response']['meta'])"
   ]
  },
  {
   "cell_type": "code",
   "execution_count": 32,
   "metadata": {},
   "outputs": [
    {
     "data": {
      "text/plain": [
       "3"
      ]
     },
     "execution_count": 32,
     "metadata": {},
     "output_type": "execute_result"
    }
   ],
   "source": [
    "len(data['response']['meta'])"
   ]
  },
  {
   "cell_type": "code",
   "execution_count": 33,
   "metadata": {},
   "outputs": [
    {
     "data": {
      "text/plain": [
       "dict_items([('hits', 909477), ('offset', 0), ('time', 258)])"
      ]
     },
     "execution_count": 33,
     "metadata": {},
     "output_type": "execute_result"
    }
   ],
   "source": [
    "data['response']['meta'].items()"
   ]
  },
  {
   "cell_type": "markdown",
   "metadata": {},
   "source": [
    "since there is no valuable and enough data to be analized, I won't use the 'meta' key information"
   ]
  },
  {
   "cell_type": "markdown",
   "metadata": {},
   "source": [
    "Overall, for this data collection from Newyork times via Web Api, I will use the df_article to do the analysis."
   ]
  },
  {
   "cell_type": "markdown",
   "metadata": {},
   "source": [
    "# Conclusion"
   ]
  },
  {
   "cell_type": "markdown",
   "metadata": {},
   "source": [
    "This project is about how to create and read HTML,XML,JSON files and transform to dataframe. HTML is parsed by using BeautifulSoup library.\n",
    "\n",
    "In addition, the process of how to use Web Api to get the data is also shown as above."
   ]
  },
  {
   "cell_type": "code",
   "execution_count": null,
   "metadata": {},
   "outputs": [],
   "source": []
  }
 ],
 "metadata": {
  "kernelspec": {
   "display_name": "Python 3",
   "language": "python",
   "name": "python3"
  },
  "language_info": {
   "codemirror_mode": {
    "name": "ipython",
    "version": 3
   },
   "file_extension": ".py",
   "mimetype": "text/x-python",
   "name": "python",
   "nbconvert_exporter": "python",
   "pygments_lexer": "ipython3",
   "version": "3.8.3"
  }
 },
 "nbformat": 4,
 "nbformat_minor": 4
}
