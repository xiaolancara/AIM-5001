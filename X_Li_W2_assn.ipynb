{
 "cells": [
  {
   "cell_type": "code",
   "execution_count": 1,
   "metadata": {},
   "outputs": [],
   "source": [
    "#define lists\n",
    "list_Price = []\n",
    "list_Maintenance_cost = []\n",
    "list_Number_of_doors = []\n",
    "list_Number_of_passengers = []\n",
    "list_Luggage_capacity = []\n",
    "list_Safety_rating = []\n",
    "list_Classification_of_vehicle = []\n",
    "Index_List_price_is_med = []\n",
    "list_Number_of_passengers_price_ismed = []\n",
    "Index_List_Price_ishigh_and_Maintenance_isnotlow = []\n",
    "Index_List_door_is2_and_luggage_isbig = []\n",
    "list_Number_of_doors_replace = []"
   ]
  },
  {
   "cell_type": "code",
   "execution_count": 2,
   "metadata": {},
   "outputs": [
    {
     "name": "stdout",
     "output_type": "stream",
     "text": [
      "['high', 'high', '2', '4', 'med', 'low', 'unacc']\n",
      "['high', 'high', '4', 'more', 'small', 'high', 'acc']\n",
      "['high', 'high', '4', 'more', 'big', 'low', 'unacc']\n",
      "['high', 'low', '2', 'more', 'big', 'high', 'acc']\n",
      "['vhigh', 'low', '3', '2', 'med', 'med', 'unacc']\n",
      "['low', 'high', '2', '2', 'small', 'low', 'unacc']\n",
      "['med', 'med', '4', 'more', 'med', 'high', 'vgood']\n",
      "['low', 'low', '3', '2', 'big', 'med', 'unacc']\n",
      "['vhigh', 'low', '2', '2', 'small', 'low', 'unacc']\n",
      "['vhigh', 'high', '4', '4', 'med', 'low', 'unacc']\n",
      "['low', 'low', '2', '2', 'med', 'med', 'unacc']\n",
      "['vhigh', 'low', '4', 'more', 'small', 'high', 'acc']\n",
      "['high', 'low', '2', '4', 'big', 'med', 'acc']\n",
      "['low', 'vhigh', '3', 'more', 'big', 'low', 'unacc']\n",
      "['high', 'low', '5more', '2', 'big', 'med', 'unacc']\n",
      "['vhigh', 'high', '2', 'more', 'med', 'high', 'unacc']\n",
      "['med', 'med', '2', '2', 'small', 'low', 'unacc']\n",
      "['high', 'low', '5more', '4', 'med', 'high', 'acc']\n",
      "['low', 'low', '3', 'more', 'med', 'high', 'vgood']\n",
      "['low', 'low', '2', '2', 'big', 'med', 'unacc']\n",
      "['med', 'high', '4', '2', 'big', 'high', 'unacc']\n",
      "['low', 'low', '2', '2', 'small', 'high', 'unacc']\n",
      "['vhigh', 'high', '5more', '4', 'med', 'med', 'unacc']\n",
      "['med', 'vhigh', '2', '2', 'big', 'low', 'unacc']\n",
      "['low', 'vhigh', '4', '4', 'big', 'low', 'unacc']\n",
      "['vhigh', 'low', '3', 'more', 'big', 'low', 'unacc']\n",
      "['med', 'vhigh', '3', '4', 'small', 'low', 'unacc']\n",
      "['high', 'high', '3', '4', 'med', 'med', 'unacc']\n",
      "['low', 'high', '5more', '2', 'big', 'low', 'unacc']\n",
      "['med', 'high', '5more', '2', 'med', 'med', 'unacc']\n",
      "['high', 'low', '3', '4', 'med', 'high', 'acc']\n",
      "['high', 'vhigh', '5more', '4', 'med', 'med', 'unacc']\n",
      "['low', 'low', '5more', '2', 'med', 'low', 'unacc']\n",
      "['vhigh', 'vhigh', '4', '2', 'big', 'high', 'unacc']\n",
      "['high', 'low', '3', '2', 'big', 'high', 'unacc']\n"
     ]
    }
   ],
   "source": [
    "#read data\n",
    "import csv\n",
    "with open('C:/Users/xiaon/Downloads/cars-sample35.txt') as csvfile:\n",
    " readCSV = csv.reader(csvfile)\n",
    "# print each row as read by the csv.reader function\n",
    " for row in readCSV:\n",
    "  print(row)\n"
   ]
  },
  {
   "cell_type": "code",
   "execution_count": 4,
   "metadata": {},
   "outputs": [
    {
     "name": "stdout",
     "output_type": "stream",
     "text": [
      "Price: ['high', 'high', 'high', 'high', 'vhigh', 'low', 'med', 'low', 'vhigh', 'vhigh', 'low', 'vhigh', 'high', 'low', 'high', 'vhigh', 'med', 'high', 'low', 'low', 'med', 'low', 'vhigh', 'med', 'low', 'vhigh', 'med', 'high', 'low', 'med', 'high', 'high', 'low', 'vhigh', 'high']\n",
      "Maintenance_cost: ['high', 'high', 'high', 'low', 'low', 'high', 'med', 'low', 'low', 'high', 'low', 'low', 'low', 'vhigh', 'low', 'high', 'med', 'low', 'low', 'low', 'high', 'low', 'high', 'vhigh', 'vhigh', 'low', 'vhigh', 'high', 'high', 'high', 'low', 'vhigh', 'low', 'vhigh', 'low']\n",
      "Number_of_doors: ['2', '4', '4', '2', '3', '2', '4', '3', '2', '4', '2', '4', '2', '3', '5more', '2', '2', '5more', '3', '2', '4', '2', '5more', '2', '4', '3', '3', '3', '5more', '5more', '3', '5more', '5more', '4', '3']\n",
      "Number_of_passengers: ['4', 'more', 'more', 'more', '2', '2', 'more', '2', '2', '4', '2', 'more', '4', 'more', '2', 'more', '2', '4', 'more', '2', '2', '2', '4', '2', '4', 'more', '4', '4', '2', '2', '4', '4', '2', '2', '2']\n",
      "Luggage_capacity: ['med', 'small', 'big', 'big', 'med', 'small', 'med', 'big', 'small', 'med', 'med', 'small', 'big', 'big', 'big', 'med', 'small', 'med', 'med', 'big', 'big', 'small', 'med', 'big', 'big', 'big', 'small', 'med', 'big', 'med', 'med', 'med', 'med', 'big', 'big']\n",
      "Safety_rating: ['low', 'high', 'low', 'high', 'med', 'low', 'high', 'med', 'low', 'low', 'med', 'high', 'med', 'low', 'med', 'high', 'low', 'high', 'high', 'med', 'high', 'high', 'med', 'low', 'low', 'low', 'low', 'med', 'low', 'med', 'high', 'med', 'low', 'high', 'high']\n",
      "Classification_of_vehicle: ['unacc', 'acc', 'unacc', 'acc', 'unacc', 'unacc', 'vgood', 'unacc', 'unacc', 'unacc', 'unacc', 'acc', 'acc', 'unacc', 'unacc', 'unacc', 'unacc', 'acc', 'vgood', 'unacc', 'unacc', 'unacc', 'unacc', 'unacc', 'unacc', 'unacc', 'unacc', 'unacc', 'unacc', 'unacc', 'acc', 'unacc', 'unacc', 'unacc', 'unacc']\n"
     ]
    }
   ],
   "source": [
    "#1. print list 7 attributes data\n",
    "import csv\n",
    "with open('C:/Users/xiaon/Downloads/cars-sample35.txt') as csvfile:\n",
    " readCSV = csv.reader(csvfile)\n",
    "# print each row as read by the csv.reader function\n",
    " for row in readCSV:\n",
    "  list_Price.append(row[0])\n",
    "  list_Maintenance_cost.append(row[1])\n",
    "  list_Number_of_doors.append(row[2])\n",
    "  list_Number_of_passengers.append(row[3])\n",
    "  list_Luggage_capacity.append(row[4])\n",
    "  list_Safety_rating.append(row[5])\n",
    "  list_Classification_of_vehicle.append(row[6])\n",
    "print(\"Price:\", list_Price)\n",
    "print(\"Maintenance_cost:\", list_Maintenance_cost)\n",
    "print(\"Number_of_doors:\", list_Number_of_doors)\n",
    "print(\"Number_of_passengers:\", list_Number_of_passengers)\n",
    "print(\"Luggage_capacity:\", list_Luggage_capacity)\n",
    "print(\"Safety_rating:\", list_Safety_rating)\n",
    "print(\"Classification_of_vehicle:\", list_Classification_of_vehicle)"
   ]
  },
  {
   "cell_type": "code",
   "execution_count": 5,
   "metadata": {},
   "outputs": [
    {
     "name": "stdout",
     "output_type": "stream",
     "text": [
      "Index_List_price_is_med: [6, 16, 20, 23, 26, 29]\n"
     ]
    }
   ],
   "source": [
    "#2.  the list index values of each automobile having a “price” rating of \"med\"\n",
    "for price_islow_index in range(len(list_Price)):\n",
    "  if list_Price[price_islow_index] == 'med':\n",
    "      Index_List_price_is_med.append(price_islow_index)      \n",
    "print(\"Index_List_price_is_med:\",Index_List_price_is_med)"
   ]
  },
  {
   "cell_type": "code",
   "execution_count": 6,
   "metadata": {},
   "outputs": [
    {
     "name": "stdout",
     "output_type": "stream",
     "text": [
      "Number_of_passengers_if_price_ismed: ['more', '2', '2', '2', '4', '2']\n"
     ]
    }
   ],
   "source": [
    "#3.  the \"number of passengers\" value for each auto having a \"price\" value of \"med\"\n",
    "for number in Index_List_price_is_med:\n",
    "        list_Number_of_passengers_price_ismed.append(list_Number_of_passengers[number])      \n",
    "print(\"Number_of_passengers_if_price_ismed:\",list_Number_of_passengers_price_ismed)\n"
   ]
  },
  {
   "cell_type": "code",
   "execution_count": 7,
   "metadata": {},
   "outputs": [
    {
     "name": "stdout",
     "output_type": "stream",
     "text": [
      "Index_List_Price_ishigh_and_Maintenance_isnotlow: [0, 1, 2, 27, 31]\n"
     ]
    }
   ],
   "source": [
    "#4.  the index value for each automobile having a \"price\" value of \"high\" and a \"maintenance\" value that is not \"low\"\n",
    "for price_ishigh_index in range(len(list_Price)):\n",
    "  if list_Price[price_ishigh_index] == 'high':  \n",
    "      #print(price_ishigh_index)\n",
    "      Maintenance_isnotlow = price_ishigh_index\n",
    "      if list_Maintenance_cost[Maintenance_isnotlow] !='low':\n",
    "          #print(Maintenance_isnotlow)\n",
    "          Index_List_Price_ishigh_and_Maintenance_isnotlow.append(Maintenance_isnotlow)\n",
    "print(\"Index_List_Price_ishigh_and_Maintenance_isnotlow:\",Index_List_Price_ishigh_and_Maintenance_isnotlow)\n"
   ]
  },
  {
   "cell_type": "code",
   "execution_count": 8,
   "metadata": {},
   "outputs": [
    {
     "name": "stdout",
     "output_type": "stream",
     "text": [
      "Index_List_door_is2_and_luggage_isbig: [3, 12, 19, 23]\n"
     ]
    }
   ],
   "source": [
    "#5  the index value for each auto having 2 doors and a luggage value of \"big\"\n",
    "for index_door_is2 in range(len(list_Number_of_doors)):\n",
    "  if list_Number_of_doors[index_door_is2] == '2':  \n",
    "      #print(index_door_is2)\n",
    "      Luggage_isbig = index_door_is2\n",
    "      if list_Luggage_capacity[Luggage_isbig] =='big':\n",
    "          #print(Luggage_isbig)\n",
    "          Index_List_door_is2_and_luggage_isbig.append(Luggage_isbig)\n",
    "print(\"Index_List_door_is2_and_luggage_isbig:\",Index_List_door_is2_and_luggage_isbig)\n"
   ]
  },
  {
   "cell_type": "code",
   "execution_count": 9,
   "metadata": {},
   "outputs": [
    {
     "name": "stdout",
     "output_type": "stream",
     "text": [
      "list_Number_of_doors_replace: [2, 4, 4, 2, 3, 2, 4, 3, 2, 4, 2, 4, 2, 3, 5, 2, 2, 5, 3, 2, 4, 2, 5, 2, 4, 3, 3, 3, 5, 5, 3, 5, 5, 4, 3]\n",
      "average_door_number: 3\n"
     ]
    }
   ],
   "source": [
    "#6.1 convert all of the items in your list to their numeric equivalent\n",
    "list_Number_of_doors_replace=['5' if value =='5more' else value for value in list_Number_of_doors]\n",
    "#print(\"list_Number_of_doors_replace\", list_Number_of_doors_replace)\n",
    "list_Number_of_doors_replace = list(map(int, list_Number_of_doors_replace))\n",
    "print(\"list_Number_of_doors_replace:\", list_Number_of_doors_replace)\n",
    "#6.2  calculate the average number of doors across all 35 autos\n",
    "import numpy as np\n",
    "#drop decimal point\n",
    "average_door_number = np.sum(list_Number_of_doors_replace)//35\n",
    "print(\"average_door_number:\",average_door_number)\n"
   ]
  },
  {
   "cell_type": "code",
   "execution_count": null,
   "metadata": {},
   "outputs": [],
   "source": []
  }
 ],
 "metadata": {
  "kernelspec": {
   "display_name": "Python 3",
   "language": "python",
   "name": "python3"
  },
  "language_info": {
   "codemirror_mode": {
    "name": "ipython",
    "version": 3
   },
   "file_extension": ".py",
   "mimetype": "text/x-python",
   "name": "python",
   "nbconvert_exporter": "python",
   "pygments_lexer": "ipython3",
   "version": "3.8.3"
  }
 },
 "nbformat": 4,
 "nbformat_minor": 4
}
